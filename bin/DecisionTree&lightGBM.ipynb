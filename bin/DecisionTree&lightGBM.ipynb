{
 "cells": [
  {
   "cell_type": "markdown",
   "id": "76c968c0-46ec-4028-be0a-6e330da5cc8d",
   "metadata": {},
   "source": [
    "## Prétraitement des données"
   ]
  },
  {
   "cell_type": "code",
   "execution_count": 2,
   "id": "469e146f-1044-4c8e-8566-563943707318",
   "metadata": {},
   "outputs": [],
   "source": [
    "import xml.etree.ElementTree as ET\n",
    "import pandas as pd\n",
    "\n",
    "\n",
    "def extract_data_brut(file_path,output_csv_path):\n",
    "    '''\n",
    "    extraire les textes et leurs parits à partir des corpus d'apprentissage bruts\n",
    "    et les conserver dans un fichier csv pour chaque langue\n",
    "    '''\n",
    "    \n",
    "    tree = ET.parse(file_path)\n",
    "    root = tree.getroot()\n",
    "\n",
    "    data = []\n",
    "    for doc in root.findall('.//doc'):\n",
    "        # obtenir tous les paragraphes du texte et les joindre en un seul\n",
    "        text_elements = doc.findall('.//texte//p')\n",
    "        texte = ' '.join([elem.text.strip() for elem in text_elements if elem.text])\n",
    "        partis = [parti.get('valeur') for parti in doc.findall('.//PARTI')]\n",
    "        for parti in partis:\n",
    "            data.append({'texte': texte, 'parti': parti})\n",
    "\n",
    "    df = pd.DataFrame(data)\n",
    "\n",
    "    return df.to_csv(output_csv_path, index=False, encoding='utf-8')\n",
    "\n",
    "def extract_and_combine_text_label(xml_file_path, label_file_path, output_csv_path):\n",
    "    '''\n",
    "    extraire les textes tests dans les fichiers xml de et leurs labels des fichiers textes \n",
    "    et les combiner dans un seul fichier csv pour chaque langue\n",
    "    '''   \n",
    "    tree = ET.parse(xml_file_path)\n",
    "    root = tree.getroot()\n",
    "\n",
    "    test_data = []\n",
    "    for doc in root.findall('.//doc'):\n",
    "        # obtenir tous les paragraphes du texte et les joindre en un seul\n",
    "        text_elements = doc.findall('.//texte//p')\n",
    "        texte = ' '.join([elem.text.strip() for elem in text_elements if elem.text])\n",
    "        test_data.append({'texte': texte})\n",
    "\n",
    "    texte_df = pd.DataFrame(test_data)\n",
    "\n",
    "    # lecture des labels à partir du fichier texte et les combiner avec les textes dans un même dataframe\n",
    "    labels_df = pd.read_csv(label_file_path, sep='\\t', header=None, names=['id', 'label'])\n",
    "    labels_df.set_index('id', inplace=True)\n",
    "\n",
    "    # ajouter une colonne id pour pouvoir joindre les deux dataframes\n",
    "    texte_df['id'] = range(1, len(texte_df) + 1)\n",
    "    texte_df.set_index('id', inplace=True)\n",
    "\n",
    "    # joindre les deux dataframes en utilisant l'index id comme clé de jointure \n",
    "    combined_df = texte_df.join(labels_df, how='left')\n",
    "    \n",
    "    combined_df.to_csv(output_csv_path, index=False)"
   ]
  },
  {
   "cell_type": "code",
   "execution_count": 3,
   "id": "70d8e796",
   "metadata": {},
   "outputs": [
    {
     "name": "stderr",
     "output_type": "stream",
     "text": [
      "[nltk_data] Downloading package stopwords to\n",
      "[nltk_data]     /Users/liuyingzi/nltk_data...\n",
      "[nltk_data]   Package stopwords is already up-to-date!\n",
      "[nltk_data] Downloading package punkt to /Users/liuyingzi/nltk_data...\n",
      "[nltk_data]   Package punkt is already up-to-date!\n"
     ]
    }
   ],
   "source": [
    "import nltk\n",
    "import pandas as pd\n",
    "import re\n",
    "import string\n",
    "from nltk.corpus import stopwords\n",
    "from nltk.tokenize import word_tokenize\n",
    "\n",
    "\n",
    "# installer les packages nltk nécessaires pour la préparation des données \n",
    "nltk.download('stopwords')\n",
    "nltk.download('punkt')\n",
    "\n",
    "def preprocess_text(text, lang):\n",
    "    '''\n",
    "    prétraiter le texte en appliquant les étapes suivantes:\n",
    "    - convertir le texte en minuscules\n",
    "    - supprimer les nombres\n",
    "    - supprimer les apostrophes\n",
    "    - supprimer les mots de longueur inférieure ou égale à 2\n",
    "    - supprimer les stopwords et la ponctuation\n",
    "    '''\n",
    "    # assurer que le texte est de type str\n",
    "    if not isinstance(text, str):\n",
    "        text = str(text)  # convertir en str\n",
    "\n",
    "    # charger les stopwords selon la langue\n",
    "    if lang == 'en':\n",
    "        stop_words = set(stopwords.words('english'))\n",
    "    elif lang == 'fr':\n",
    "        stop_words = set(stopwords.words('french'))\n",
    "    elif lang == 'it':\n",
    "        stop_words = set(stopwords.words('italian'))\n",
    "\n",
    "    # enlever les symboles ennuyeux et les nombres \n",
    "    text = re.sub(r'\\d+', '', text)  \n",
    "    text = re.sub(r\"['’‘]\", ' ', text)  \n",
    "    text = re.sub(r'\\b\\w{1,2}\\b', '', text)  \n",
    "\n",
    "    words = word_tokenize(text.lower())\n",
    "\n",
    "    # enlever les stopwords et la ponctuation\n",
    "    words = [word for word in words if word not in stop_words and word not in string.punctuation]\n",
    "\n",
    "    cleaned_text = ' '.join(words)\n",
    "    return cleaned_text\n",
    "\n",
    "def preprocess_csv(csv_path, lang,output_csv_path):\n",
    "    '''\n",
    "    lecture du fichier csv contenant les textes et leurs labels\n",
    "    et prétraitement des textes\n",
    "    '''\n",
    "    # lire le fichier csv sauvegardé précédemment\n",
    "    df = pd.read_csv(csv_path)\n",
    "\n",
    "    # appliquer la fonction de prétraitement sur la colonne texte\n",
    "    df['texte'] = df['texte'].apply(lambda x: preprocess_text(x, lang))\n",
    "\n",
    "    df.to_csv(output_csv_path, index=False, encoding='utf-8')"
   ]
  },
  {
   "cell_type": "markdown",
   "id": "927a8624-40d3-4fba-8b10-1127a66b22b3",
   "metadata": {},
   "source": [
    "## Vectoriser les textes en utilisant la méthode TF-IDF"
   ]
  },
  {
   "cell_type": "code",
   "execution_count": 5,
   "id": "bf522c9e",
   "metadata": {},
   "outputs": [],
   "source": [
    "import pandas as pd\n",
    "from sklearn.feature_extraction.text import TfidfVectorizer\n",
    "from tqdm import tqdm\n",
    "\n",
    "def tfidfVectorize(CSV_train, CSV_test):\n",
    "    '''\n",
    "    vectoriser les textes en utilisant la méthode TF-IDF\n",
    "    '''\n",
    "    train_df = pd.read_csv(CSV_train)\n",
    "    test_df = pd.read_csv(CSV_test)\n",
    "    train_df.dropna(subset=['texte'], inplace=True)\n",
    "    test_df.dropna(subset=['texte'], inplace=True)\n",
    "\n",
    "    # initialiser le vectorizer avec les paramètres désirés\n",
    "    vectorizer = TfidfVectorizer(\n",
    "        ngram_range=(1,3),\n",
    "        max_df=0.5,\n",
    "        use_idf=True,\n",
    "        sublinear_tf=True,\n",
    "        max_features=10000\n",
    "    )\n",
    "\n",
    "    # vectoriser les textes d'entraînement et de test \n",
    "    print(\"Vectorizing train data...\")\n",
    "    X_train = vectorizer.fit_transform(tqdm(train_df['texte']))\n",
    "\n",
    "    print(\"Vectorizing test data...\")\n",
    "    X_test = vectorizer.transform(tqdm(test_df['texte']))\n",
    "    # récupérer les labels correspondants\n",
    "\n",
    "    y_train = train_df['parti'].astype(str)\n",
    "    y_test = test_df['parti'].astype(str)\n",
    "\n",
    "    return X_train, X_test, y_train, y_test"
   ]
  },
  {
   "cell_type": "markdown",
   "id": "16b925ff-1d1d-4b28-a4a6-2cb0282b43d5",
   "metadata": {
    "jp-MarkdownHeadingCollapsed": true
   },
   "source": [
    "## Modèle DecisionTree"
   ]
  },
  {
   "cell_type": "code",
   "execution_count": 1,
   "id": "5c95484b",
   "metadata": {
    "scrolled": true
   },
   "outputs": [
    {
     "name": "stdout",
     "output_type": "stream",
     "text": [
      "Intel MKL WARNING: Support of Intel(R) Streaming SIMD Extensions 4.2 (Intel(R) SSE4.2) enabled only processors has been deprecated. Intel oneAPI Math Kernel Library 2025.0 will require Intel(R) Advanced Vector Extensions (Intel(R) AVX) instructions.\n",
      "Intel MKL WARNING: Support of Intel(R) Streaming SIMD Extensions 4.2 (Intel(R) SSE4.2) enabled only processors has been deprecated. Intel oneAPI Math Kernel Library 2025.0 will require Intel(R) Advanced Vector Extensions (Intel(R) AVX) instructions.\n",
      "Vectorizing train data...\n"
     ]
    },
    {
     "name": "stderr",
     "output_type": "stream",
     "text": [
      "100%|███████████████████████████████████| 19365/19365 [00:07<00:00, 2685.63it/s]\n"
     ]
    },
    {
     "name": "stdout",
     "output_type": "stream",
     "text": [
      "Vectorizing test data...\n"
     ]
    },
    {
     "name": "stderr",
     "output_type": "stream",
     "text": [
      "100%|███████████████████████████████████| 12913/12913 [00:04<00:00, 3198.01it/s]\n"
     ]
    },
    {
     "name": "stdout",
     "output_type": "stream",
     "text": [
      "Accuracy: 0.7353829474173313\n",
      "Kappa Score: 0.6464296270191205\n",
      "Classification Report:\n",
      "               precision    recall  f1-score   support\n",
      "\n",
      "        ELDR       0.72      0.66      0.69      1339\n",
      "     GUE-NGL       0.75      0.74      0.74      1792\n",
      "      PPE-DE       0.76      0.78      0.77      4571\n",
      "         PSE       0.73      0.73      0.73      3626\n",
      "   Verts-ALE       0.67      0.68      0.68      1585\n",
      "\n",
      "    accuracy                           0.74     12913\n",
      "   macro avg       0.73      0.72      0.72     12913\n",
      "weighted avg       0.74      0.74      0.74     12913\n",
      "\n"
     ]
    },
    {
     "data": {
      "image/png": "[encoded data removed]",
      "text/plain": [
       "<Figure size 600x450 with 1 Axes>"
      ]
     },
     "metadata": {},
     "output_type": "display_data"
    }
   ],
   "source": [
    "from sklearn.metrics import classification_report, accuracy_score, cohen_kappa_score\n",
    "from sklearn.metrics import confusion_matrix\n",
    "import matplotlib.pyplot as plt\n",
    "import seaborn as sns\n",
    "from tf_idf import tfidfVectorize\n",
    "from sklearn.tree import DecisionTreeClassifier\n",
    "\n",
    "def evaluate(X_train, X_test, y_train, y_test, model_name, model):\n",
    "    '''\n",
    "    Évaluer les performances du modèle choisi\n",
    "    en calculant l'accuracy, le kappa et la matrice de confusion\n",
    "    '''\n",
    "    # Entraîner le modèle sur les données d'entraînement\n",
    "    model.fit(X_train, y_train)\n",
    "\n",
    "    # Prédire les labels sur les données de test\n",
    "    y_pred = model.predict(X_test)\n",
    "\n",
    "    return y_test, y_pred\n",
    "\n",
    "def print_scores(y_test, y_pred):\n",
    "    '''\n",
    "    Afficher les scores d'évaluation du modèle choisi\n",
    "    '''\n",
    "    accuracy = accuracy_score(y_test, y_pred)\n",
    "    kappa = cohen_kappa_score(y_test, y_pred)\n",
    "    report = classification_report(y_test, y_pred)\n",
    "\n",
    "    print(\"Accuracy:\", accuracy)\n",
    "    print(\"Kappa Score:\", kappa)\n",
    "    print(\"Classification Report:\\n\", report)\n",
    "\n",
    "\n",
    "def plot_confusion_matrix(y_test, y_pred, model_name):\n",
    "    '''\n",
    "    Sauvegarder la visualisation de la matrice de confusion du modèle choisi\n",
    "    '''\n",
    "    # obtenir les labels uniques\n",
    "    unique_labels = sorted(set(y_test) | set(y_pred))\n",
    "\n",
    "    # générer la matrice de confusion en spécifiant les labels\n",
    "    conf_matrix = confusion_matrix(y_test, y_pred, labels=unique_labels)\n",
    "    # utiliser seaborn pour afficher la matrice de confusion sous forme de heatmap\n",
    "    plt.figure(figsize=(6, 4.5))\n",
    "    sns.heatmap(conf_matrix, annot_kws={\"size\": 10}, annot=True, fmt='d', cmap='Greys', cbar=False,\n",
    "                xticklabels=unique_labels, yticklabels=unique_labels)\n",
    "\n",
    "    plt.xlabel('Parti Prédit')\n",
    "    plt.ylabel('Parti Réel')\n",
    "    plt.title('Matrice de Confusion')\n",
    "\n",
    "    # sauvegarder la figure dans le dossier result avec le nom du modèle\n",
    "    plt.savefig(f'../result/Confusion_Matrix_{model_name}.png', format='png', dpi=300)\n",
    "    \n",
    "    plt.show()\n",
    "\n",
    "\n",
    "if __name__ == \"__main__\":\n",
    "    # Charger les données d'entraînement et de test\n",
    "    CSV_train = '../data/texte_cleaned/train_text_cleaned_fr.csv'  \n",
    "    CSV_test = '../data/texte_cleaned/test_text_cleaned_fr.csv'\n",
    "\n",
    "    X_train, X_test, y_train, y_test = tfidfVectorize(CSV_train, CSV_test)\n",
    "\n",
    "    # Créer le modèle de l'arbre de décision\n",
    "    from sklearn.tree import DecisionTreeClassifier\n",
    "    modele = DecisionTreeClassifier()\n",
    "\n",
    "    # Évaluer le modèle et obtenir les résultats de prédiction\n",
    "    y_test, y_pred = evaluate(X_train, X_test, y_train, y_test, 'DecisionTree', modele)\n",
    "\n",
    "    # Imprimer les scores\n",
    "    print_scores(y_test, y_pred)\n",
    "\n",
    "    # Dessiner et afficher la matrice de confusion\n",
    "    plot_confusion_matrix(y_test, y_pred, 'DecisionTree')\n"
   ]
  },
  {
   "cell_type": "markdown",
   "id": "6def4940-59aa-4534-b18f-e746410907df",
   "metadata": {},
   "source": [
    "## Modèle LightGBM"
   ]
  },
  {
   "cell_type": "code",
   "execution_count": null,
   "id": "e773139c-36d2-4c75-873c-644a67bf6a3c",
   "metadata": {},
   "outputs": [
    {
     "name": "stderr",
     "output_type": "stream",
     "text": [
      "/Users/liuyingzi/opt/anaconda3/lib/python3.9/site-packages/dask/dataframe/_pyarrow_compat.py:23: UserWarning: You are using pyarrow version 11.0.0 which is known to be insecure. See https://www.cve.org/CVERecord?id=CVE-2023-47248 for further details. Please upgrade to pyarrow>=14.0.1 or install pyarrow-hotfix to patch your current version.\n",
      "  warnings.warn(\n"
     ]
    },
    {
     "name": "stdout",
     "output_type": "stream",
     "text": [
      "Vectorizing train data...\n"
     ]
    },
    {
     "name": "stderr",
     "output_type": "stream",
     "text": [
      "100%|███████████████████████████████████| 19365/19365 [00:07<00:00, 2732.14it/s]\n"
     ]
    },
    {
     "name": "stdout",
     "output_type": "stream",
     "text": [
      "Vectorizing test data...\n"
     ]
    },
    {
     "name": "stderr",
     "output_type": "stream",
     "text": [
      "100%|███████████████████████████████████| 12913/12913 [00:03<00:00, 3265.69it/s]\n"
     ]
    }
   ],
   "source": [
    "import matplotlib.pyplot as plt\n",
    "import seaborn as sns\n",
    "from sklearn.metrics import classification_report, accuracy_score, cohen_kappa_score, confusion_matrix\n",
    "from sklearn.preprocessing import LabelEncoder\n",
    "import lightgbm as lgb\n",
    "\n",
    "\n",
    "def evaluate(X_train, X_test, y_train, y_test, model):\n",
    "    '''\n",
    "    Évaluer les performances du modèle choisi\n",
    "    en calculant l'accuracy, le kappa et la matrice de confusion\n",
    "    '''\n",
    "    # Encodage des étiquettes cibles à l'aide de LabelEncoder\n",
    "    label_encoder = LabelEncoder()\n",
    "    label_encoder.fit(y_train)\n",
    "    \n",
    "    y_train_encoded = label_encoder.transform(y_train)\n",
    "    y_test_encoded = label_encoder.transform(y_test)\n",
    "\n",
    "    # Entraîner le modèle sur les données d'entraînement\n",
    "    model.fit(X_train, y_train_encoded)\n",
    "\n",
    "    # Prédire les labels sur les données de test\n",
    "    y_pred_encoded = []\n",
    "    batch_size = 1000  # Ajustez cette valeur en fonction de la mémoire disponible\n",
    "    for i in range(0, len(X_test), batch_size):\n",
    "        batch_pred = model.predict(X_test[i:i + batch_size])\n",
    "        y_pred_encoded.extend(batch_pred)\n",
    "\n",
    "    y_pred = label_encoder.inverse_transform(y_pred_encoded)\n",
    "\n",
    "    # Calculer les scores d'évaluation\n",
    "    accuracy = accuracy_score(y_test, y_pred)\n",
    "    kappa = cohen_kappa_score(y_test, y_pred)\n",
    "    report = classification_report(y_test, y_pred)\n",
    "\n",
    "    # Afficher les scores d'évaluation\n",
    "    print(\"Précision:\", accuracy)\n",
    "    print(\"Score Kappa:\", kappa)\n",
    "    print(\"Rapport de classification:\\n\", report)\n",
    "\n",
    "    # Générer et afficher la matrice de confusion\n",
    "    plot_confusion_matrix(y_test, y_pred)\n",
    "\n",
    "def plot_confusion_matrix(y_test, y_pred):\n",
    "    '''\n",
    "    Générer et afficher la matrice de confusion\n",
    "    '''\n",
    "    unique_labels = sorted(set(y_test) | set(y_pred))\n",
    "    conf_matrix = confusion_matrix(y_test, y_pred, labels=unique_labels)\n",
    "    plt.figure(figsize=(6, 4.5))\n",
    "    sns.heatmap(conf_matrix, annot=True, fmt='d', cmap='Blues', \n",
    "                xticklabels=unique_labels, yticklabels=unique_labels)\n",
    "    plt.xlabel('Prédit')\n",
    "    plt.ylabel('Réel')\n",
    "    plt.title('Matrice de Confusion')\n",
    "    plt.show()\n",
    "\n",
    "if __name__ == \"__main__\":\n",
    "    # Charger les données d'entraînement et de test\n",
    "    CSV_train = '../data/texte_cleaned/train_text_cleaned_fr.csv'\n",
    "    CSV_test = '../data/texte_cleaned/test_text_cleaned_fr.csv'\n",
    "\n",
    "    X_train, X_test, y_train, y_test = tfidfVectorize(CSV_train, CSV_test)\n",
    "\n",
    "    # Utiliser le modèle LightGBM avec des paramètres ajustés\n",
    "    model = lgb.LGBMClassifier(num_leaves=31, min_data_in_leaf=20)  # Ajustez ces paramètres en fonction de vos besoins\n",
    "\n",
    "    # Évaluer et afficher les performances du modèle\n",
    "    evaluate(X_train, X_test, y_train, y_test, model)\n"
   ]
  },
  {
   "cell_type": "markdown",
   "id": "dcbd1291-cb41-44cf-8126-2e72d2d041be",
   "metadata": {},
   "source": [
    "## Modèle XGBoost"
   ]
  },
  {
   "cell_type": "code",
   "execution_count": null,
   "id": "2fece693-5f94-4395-a4d1-2d7b8f22a602",
   "metadata": {},
   "outputs": [
    {
     "name": "stdout",
     "output_type": "stream",
     "text": [
      "Vectorizing train data...\n"
     ]
    },
    {
     "name": "stderr",
     "output_type": "stream",
     "text": [
      "100%|███████████████████████████████████| 19365/19365 [00:07<00:00, 2733.79it/s]\n"
     ]
    },
    {
     "name": "stdout",
     "output_type": "stream",
     "text": [
      "Vectorizing test data...\n"
     ]
    },
    {
     "name": "stderr",
     "output_type": "stream",
     "text": [
      "100%|███████████████████████████████████| 12913/12913 [00:04<00:00, 3140.46it/s]\n"
     ]
    }
   ],
   "source": [
    "from sklearn.metrics import classification_report, accuracy_score, cohen_kappa_score\n",
    "from sklearn.metrics import confusion_matrix\n",
    "import matplotlib.pyplot as plt\n",
    "import seaborn as sns\n",
    "from sklearn.preprocessing import LabelEncoder\n",
    "import xgboost as xgb  # Importer XGBoost\n",
    "\n",
    "\n",
    "def evaluate(X_train, X_test, y_train, y_test, model_name, model):\n",
    "    '''\n",
    "    Évaluer les performances du modèle choisi\n",
    "    en calculant l'accuracy, le kappa et la matrice de confusion.\n",
    "    '''\n",
    "    # Encodage des étiquettes cibles à l'aide de LabelEncoder\n",
    "    label_encoder = LabelEncoder()\n",
    "    label_encoder.fit(y_train)  # Ajustement à l'aide des étiquettes de l'ensemble d'apprentissage\n",
    "    \n",
    "    y_train_encoded = label_encoder.transform(y_train)\n",
    "    y_test_encoded = label_encoder.transform(y_test)\n",
    "\n",
    "    # Entraîner le modèle sur les données d'entraînement\n",
    "    model.fit(X_train, y_train_encoded)\n",
    "\n",
    "    # Prédire les labels sur les données de test\n",
    "    y_pred_encoded = model.predict(X_test)\n",
    "\n",
    "    # Convertir les étiquettes encodées en étiquettes originales\n",
    "    y_pred = label_encoder.inverse_transform(y_pred_encoded)\n",
    "\n",
    "    # Calculer les scores d'évaluation\n",
    "    accuracy = accuracy_score(y_test, y_pred)\n",
    "    kappa = cohen_kappa_score(y_test, y_pred)\n",
    "    report = classification_report(y_test, y_pred)\n",
    "\n",
    "    # Afficher les scores d'évaluation\n",
    "    print(\"Précision (Accuracy):\", accuracy)\n",
    "    print(\"Score Kappa:\", kappa)\n",
    "    print(\"Rapport de Classification:\\n\", report)\n",
    "\n",
    "    # Générer et sauvegarder la matrice de confusion\n",
    "    plot_confusion_matrix(y_test, y_pred, model_name)\n",
    "\n",
    "def plot_confusion_matrix(y_test, y_pred, model_name):\n",
    "    '''\n",
    "    Sauvegarder la visualisation de la matrice de confusion du modèle choisi.\n",
    "    '''\n",
    "    # Obtenir les labels uniques\n",
    "    unique_labels = sorted(set(y_test) | set(y_pred))\n",
    "\n",
    "    # Générer la matrice de confusion en spécifiant les labels\n",
    "    conf_matrix = confusion_matrix(y_test, y_pred, labels=unique_labels)\n",
    "\n",
    "    # Utiliser seaborn pour afficher la matrice de confusion sous forme de heatmap\n",
    "    plt.figure(figsize=(6, 4.5))\n",
    "    sns.heatmap(conf_matrix, annot=True, fmt='d', cmap='Greys', \n",
    "                xticklabels=unique_labels, yticklabels=unique_labels)\n",
    "\n",
    "    plt.xlabel('Label Prédit')\n",
    "    plt.ylabel('Label Réel')\n",
    "    plt.title('Matrice de Confusion pour ' + model_name)\n",
    "\n",
    "    # Sauvegarder la figure dans le dossier result avec le nom du modèle\n",
    "    plt.savefig(f'../result/Confusion_Matrix_{model_name}.png', format='png', dpi=300)\n",
    "    \n",
    "    plt.show()\n",
    "\n",
    "if __name__ == \"__main__\":\n",
    "    # Charger les données d'entraînement et de test\n",
    "    CSV_train = '../data/texte_cleaned/train_text_cleaned_fr.csv'\n",
    "    CSV_test = '../data/texte_cleaned/test_text_cleaned_fr.csv'\n",
    "\n",
    "    X_train, X_test, y_train, y_test = tfidfVectorize(CSV_train, CSV_test)\n",
    "\n",
    "    # Utiliser le modèle XGBoost\n",
    "    model = xgb.XGBClassifier()  # Utiliser le modèle XGBoost avec des paramètres par défaut\n",
    "\n",
    "    # Évaluer et afficher les performances du modèle\n",
    "    evaluate(X_train, X_test, y_train, y_test, 'XGBoost', model)\n"
   ]
  },
  {
   "cell_type": "code",
   "execution_count": null,
   "id": "dbf10e53-420e-416a-ac59-0aab13edf229",
   "metadata": {},
   "outputs": [],
   "source": []
  }
 ],
 "metadata": {
  "kernelspec": {
   "display_name": "Python 3 (ipykernel)",
   "language": "python",
   "name": "python3"
  },
  "language_info": {
   "codemirror_mode": {
    "name": "ipython",
    "version": 3
   },
   "file_extension": ".py",
   "mimetype": "text/x-python",
   "name": "python",
   "nbconvert_exporter": "python",
   "pygments_lexer": "ipython3",
   "version": "3.9.7"
  }
 },
 "nbformat": 4,
 "nbformat_minor": 5
}
