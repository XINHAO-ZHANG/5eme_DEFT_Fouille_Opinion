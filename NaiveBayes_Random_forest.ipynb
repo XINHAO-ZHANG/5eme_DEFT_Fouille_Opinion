{
 "cells": [
  {
   "cell_type": "markdown",
   "id": "6c1f8176",
   "metadata": {},
   "source": [
    "# 1.Transformer :  XML -> CSV  de structure \"texte, parti\""
   ]
  },
  {
   "cell_type": "code",
   "execution_count": 1,
   "id": "bac31785",
   "metadata": {},
   "outputs": [],
   "source": [
    "import xml.etree.ElementTree as ET\n",
    "import pandas as pd"
   ]
  },
  {
   "cell_type": "code",
   "execution_count": 2,
   "id": "c3a76b3e",
   "metadata": {},
   "outputs": [],
   "source": [
    "def extract_data_brut(file_path,output_csv_path):\n",
    "    '''\n",
    "    extraire les textes et leurs parities à partir des corpus d'apprentissage bruts\n",
    "    et les conserver dans un fichier csv pour chaque langue\n",
    "    '''    \n",
    "    tree = ET.parse(file_path)\n",
    "    root = tree.getroot()\n",
    "    data = []\n",
    "    for doc in root.findall('.//doc'): \n",
    "        # obtenir tous les paragraphes du texte et les joindre en un seul\n",
    "        text_elements = doc.findall('.//texte//p')\n",
    "        texte = ' '.join([elem.text.strip() for elem in text_elements if elem.text])\n",
    "        # obtenir les partis politiques\n",
    "        partis = [parti.get('valeur') for parti in doc.findall('.//PARTI')]\n",
    "        for parti in partis:\n",
    "            data.append({'texte': texte, 'parti': parti})\n",
    "    # créer un dataframe et l'enregistrer dans un fichier csv\n",
    "    df = pd.DataFrame(data)\n",
    "    return df.to_csv(output_csv_path, index=False, encoding='utf-8')"
   ]
  },
  {
   "cell_type": "code",
   "execution_count": 3,
   "id": "89143407",
   "metadata": {},
   "outputs": [],
   "source": [
    "def extract_and_combine_text_label(xml_file_path, label_file_path, output_csv_path):\n",
    "    '''\n",
    "    extraire les textes tests dans les fichiers xml de et leurs labels des fichiers textes \n",
    "    et les combiner dans un seul fichier csv pour chaque langue\n",
    "    '''   \n",
    "    tree = ET.parse(xml_file_path)\n",
    "    root = tree.getroot()\n",
    "\n",
    "    test_data = []\n",
    "    for doc in root.findall('.//doc'):\n",
    "        # obtenir tous les paragraphes du texte et les joindre en un seul\n",
    "        text_elements = doc.findall('.//texte//p')\n",
    "        texte = ' '.join([elem.text.strip() for elem in text_elements if elem.text])\n",
    "        test_data.append({'texte': texte})\n",
    "\n",
    "    texte_df = pd.DataFrame(test_data)\n",
    "\n",
    "    # lecture des labels à partir du fichier txt et les combiner avec les textes dans un même dataframe\n",
    "    labels_df = pd.read_csv(label_file_path, sep='\\t', header=None, names=['id', 'parti'])\n",
    "    labels_df.set_index('id', inplace=True)\n",
    "    \n",
    "    # ajouter une colonne id pour pouvoir joindre les deux dataframes\n",
    "    texte_df['id'] = range(1, len(texte_df) + 1)\n",
    "    texte_df.set_index('id', inplace=True)\n",
    "    # output est comme : [id, label]\n",
    "\n",
    "    # joindre les deux dataframes en utilisant l'index id comme clé de jointure \n",
    "    combined_df = texte_df.join(labels_df, how='left')\n",
    "    # output est comme : [id, texte, label]\n",
    "    \n",
    "    combined_df.to_csv(output_csv_path, index=False)"
   ]
  },
  {
   "cell_type": "code",
   "execution_count": 5,
   "id": "26c6295e",
   "metadata": {},
   "outputs": [],
   "source": [
    "# extraire les apprentissages bruts\n",
    "extract_data_brut(f'./corpus/deft09_appr/deft09_parlement_appr_fr.xml', f'./data/texte_brut/appr_brut_fr.csv')"
   ]
  },
  {
   "cell_type": "code",
   "execution_count": 6,
   "id": "e91254a8",
   "metadata": {},
   "outputs": [],
   "source": [
    "# extraire les tests bruts\n",
    "extract_and_combine_text_label(f'./corpus/deft09_test/deft09_parlement_test_fr.xml', f'./corpus/deft09_ref/deft09_parlement_ref_fr.txt', f'./data/texte_brut/test_brut_fr.csv')"
   ]
  },
  {
   "cell_type": "markdown",
   "id": "56b485e2",
   "metadata": {},
   "source": [
    "**Jusqu'a maintenant, on a obtenu les textes et leur parti label pour chaque langue dans un fichier csv**"
   ]
  },
  {
   "cell_type": "markdown",
   "id": "85ba0423",
   "metadata": {},
   "source": [
    "---"
   ]
  },
  {
   "cell_type": "markdown",
   "id": "77a3744e",
   "metadata": {},
   "source": [
    "# 2. Pretraitement des textes"
   ]
  },
  {
   "cell_type": "code",
   "execution_count": 7,
   "id": "5e04092a",
   "metadata": {},
   "outputs": [
    {
     "name": "stderr",
     "output_type": "stream",
     "text": [
      "[nltk_data] Downloading package stopwords to\n",
      "[nltk_data]     /Users/xiaohua/nltk_data...\n",
      "[nltk_data]   Package stopwords is already up-to-date!\n",
      "[nltk_data] Downloading package punkt to /Users/xiaohua/nltk_data...\n",
      "[nltk_data]   Package punkt is already up-to-date!\n"
     ]
    },
    {
     "data": {
      "text/plain": [
       "True"
      ]
     },
     "execution_count": 7,
     "metadata": {},
     "output_type": "execute_result"
    }
   ],
   "source": [
    "import nltk\n",
    "import re\n",
    "import string\n",
    "from nltk.corpus import stopwords\n",
    "from nltk.tokenize import word_tokenize\n",
    "from nltk.stem import WordNetLemmatizer\n",
    "\n",
    "\n",
    "# installer les packages nltk nécessaires pour la préparation des données \n",
    "nltk.download('stopwords')\n",
    "nltk.download('punkt')"
   ]
  },
  {
   "cell_type": "code",
   "execution_count": 8,
   "id": "0f782b1f",
   "metadata": {},
   "outputs": [],
   "source": [
    "def preprocess_text(text, lang):\n",
    "    '''\n",
    "    prétraiter le texte en appliquant les étapes suivantes:\n",
    "    - convertir le texte en minuscules\n",
    "    - supprimer les nombres\n",
    "    - supprimer les apostrophes\n",
    "    - supprimer les mots de longueur inférieure ou égale à 2\n",
    "    - supprimer les stopwords et la ponctuation\n",
    "    '''\n",
    "    # assurer que le texte est de type str\n",
    "    if not isinstance(text, str):\n",
    "        return str(text)  # convertir en str\n",
    "\n",
    "    # charger les stopwords selon la langue\n",
    "    if lang == 'en':\n",
    "        stop_words = set(stopwords.words('english'))\n",
    "    elif lang == 'fr':\n",
    "        stop_words = set(stopwords.words('french'))\n",
    "    elif lang == 'it':\n",
    "        stop_words = set(stopwords.words('italian'))\n",
    "\n",
    "    # enlever les symboles ennuyeux et les nombres \n",
    "    text = re.sub(r'\\d+', '', text)  \n",
    "    text = re.sub(r\"['’‘]\", ' ', text)  \n",
    "    text = re.sub(r'\\b\\w{1,2}\\b', '', text)\n",
    "    \n",
    "    \n",
    "    \n",
    "    words = word_tokenize(text.lower())\n",
    "\n",
    "    # enlever les stopwords et la ponctuation\n",
    "    words = [word for word in words if word not in stop_words and word not in string.punctuation]\n",
    "\n",
    "    cleaned_text = ' '.join(words)\n",
    "    return cleaned_text"
   ]
  },
  {
   "cell_type": "code",
   "execution_count": 9,
   "id": "20bb2348",
   "metadata": {},
   "outputs": [],
   "source": [
    "def preprocess_csv(csv_path, lang,output_csv_path):\n",
    "    '''\n",
    "    lecture du fichier csv contenant les textes et leurs labels\n",
    "    et prétraitement des textes\n",
    "    '''\n",
    "    # lire le fichier csv sauvegardé précédemment\n",
    "    df = pd.read_csv(csv_path)\n",
    "\n",
    "    # appliquer la fonction de prétraitement sur la colonne texte\n",
    "    df['texte'] = df['texte'].apply(lambda x: preprocess_text(x, lang))\n",
    "\n",
    "    df.to_csv(output_csv_path, index=False, encoding='utf-8')"
   ]
  },
  {
   "cell_type": "markdown",
   "id": "bb6be9fa",
   "metadata": {},
   "source": [
    "**textes from csv -------> preprocess --------> preprocessed textes back to csv**"
   ]
  },
  {
   "cell_type": "code",
   "execution_count": 13,
   "id": "e6270545",
   "metadata": {},
   "outputs": [],
   "source": [
    "preprocess_csv(f'./data/texte_brut/appr_brut_fr.csv', 'fr', f'./data/texte_pretraite/appr_pretraite_fr.csv')"
   ]
  },
  {
   "cell_type": "markdown",
   "id": "f21955a4",
   "metadata": {},
   "source": [
    "---"
   ]
  },
  {
   "cell_type": "markdown",
   "id": "68c83c98",
   "metadata": {},
   "source": [
    "# 3. TF-IDF comme caractéristiques"
   ]
  },
  {
   "cell_type": "code",
   "execution_count": 41,
   "id": "cac285b6",
   "metadata": {},
   "outputs": [],
   "source": [
    "from sklearn.feature_extraction.text import TfidfVectorizer\n",
    "from tqdm import tqdm"
   ]
  },
  {
   "cell_type": "code",
   "execution_count": 79,
   "id": "67736e50",
   "metadata": {},
   "outputs": [],
   "source": [
    "def tfidfVectorize(CSV_train, CSV_test):\n",
    "    '''\n",
    "    vectoriser les textes en utilisant la méthode TF-IDF\n",
    "    '''\n",
    "    train_df = pd.read_csv(CSV_train)\n",
    "    test_df = pd.read_csv(CSV_test)\n",
    "    train_df.dropna(subset=['texte'], inplace=True)\n",
    "    test_df.dropna(subset=['texte'], inplace=True)\n",
    "\n",
    "    # initialiser le vectorizer avec les paramètres désirés\n",
    "    vectorizer = TfidfVectorizer(\n",
    "        ngram_range=(1,1),\n",
    "        max_df=0.6,\n",
    "        use_idf=True,\n",
    "        sublinear_tf=True,\n",
    "        max_features=50000\n",
    "    )\n",
    "\n",
    "    # vectoriser les textes d'entraînement et de test \n",
    "    print(\"Vectorizing train data...\")\n",
    "    X_train = vectorizer.fit_transform(tqdm(train_df['texte']))\n",
    "\n",
    "    print(\"Vectorizing test data...\")\n",
    "    X_test = vectorizer.transform(tqdm(test_df['texte']))\n",
    "\n",
    "    # récupérer les labels correspondants\n",
    "    y_train = train_df['parti'].astype(str)\n",
    "    y_test = test_df['parti'].astype(str)\n",
    "\n",
    "    return X_train, X_test, y_train, y_test\n",
    "\n",
    "# les etapes dessus sont pour vectoriser les textes en utilisant la méthode TF-IDF"
   ]
  },
  {
   "cell_type": "code",
   "execution_count": 80,
   "id": "40f7c907",
   "metadata": {},
   "outputs": [
    {
     "name": "stdout",
     "output_type": "stream",
     "text": [
      "Vectorizing train data...\n"
     ]
    },
    {
     "name": "stderr",
     "output_type": "stream",
     "text": [
      "100%|██████████████████████████████████| 19365/19365 [00:01<00:00, 17342.46it/s]\n"
     ]
    },
    {
     "name": "stdout",
     "output_type": "stream",
     "text": [
      "Vectorizing test data...\n"
     ]
    },
    {
     "name": "stderr",
     "output_type": "stream",
     "text": [
      "100%|██████████████████████████████████| 12913/12913 [00:00<00:00, 16943.37it/s]\n"
     ]
    }
   ],
   "source": [
    "# Obtenir tout d'abord les vecteurs et leur labels\n",
    "X_train_fr, X_test_fr, y_train_fr, y_test_fr = tfidfVectorize('./data/texte_pretraite/appr_pretraite_fr.csv', './data/texte_pretraite/test_pretraite_fr.csv')"
   ]
  },
  {
   "cell_type": "markdown",
   "id": "d90e6198",
   "metadata": {},
   "source": [
    "# 4. Modeling"
   ]
  },
  {
   "cell_type": "code",
   "execution_count": null,
   "id": "02ef6ab6",
   "metadata": {},
   "outputs": [],
   "source": [
    "# modeling !\n",
    "from sklearn.linear_model import Perceptron, LogisticRegression, SGDClassifier\n",
    "from sklearn.naive_bayes import MultinomialNB\n",
    "from sklearn.ensemble import RandomForestClassifier\n",
    "from sklearn.model_selection import cross_val_score\n",
    "from sklearn.model_selection import GridSearchCV"
   ]
  },
  {
   "cell_type": "code",
   "execution_count": 44,
   "id": "460f87f5",
   "metadata": {},
   "outputs": [],
   "source": [
    "# on combine le modeling et l'évaluation\n",
    "\n",
    "def evaluate(X_train, X_test, y_train, y_test, model):\n",
    "    # Entraîner le modèle sur les données d'entraînement\n",
    "    model.fit(X_train, y_train)\n",
    "    \n",
    "    # Prédire les labels sur les données de test\n",
    "    y_pred = model.predict(X_test)\n",
    "\n",
    "    return y_test, y_pred"
   ]
  },
  {
   "cell_type": "code",
   "execution_count": 109,
   "id": "c41cedd5",
   "metadata": {},
   "outputs": [],
   "source": [
    "# Ensuite : choisir, construire le modèle, et l'évaluer\n",
    "\n",
    "# y_test_fr, y_pred_fr = evaluate(X_train_fr, X_test_fr, y_train_fr, y_test_fr, Perceptron()) # Perceptron\n",
    "# y_test_fr, y_pred_fr = evaluate(X_train_fr, X_test_fr, y_train_fr, y_test_fr, LogisticRegression(max_iter=500)) # LogisticRegression\n",
    "# y_test_fr, y_pred_fr = evaluate(X_train_fr, X_test_fr, y_train_fr, y_test_fr, sklearn.linear_model.SGDClassifier()) # SGDClassifier\n",
    "y_test_fr, y_pred_fr = evaluate(X_train_fr, X_test_fr, y_train_fr, y_test_fr, MultinomialNB(alpha=0.001, fit_prior=True, class_prior=None)) # MultinomialNB\n",
    "# y_test_fr, y_pred_fr = evaluate(X_train_fr, X_test_fr, y_train_fr, y_test_fr,RandomForestClassifier(n_estimators=100, max_depth=127, class_weight='balanced')) # RandomForestClassifier\n"
   ]
  },
  {
   "cell_type": "markdown",
   "id": "bc3f0f5b",
   "metadata": {},
   "source": [
    "**Normalement, après le modeling, nous pouvons accéder directement au 5ème étape, mais il faut parfois appliquer des techniques pour obtenir les meilleurs résultats pour un certain classifieur.**\n",
    "\n",
    "> Ici, il s'agit des techniques comme : \n",
    "> 1. Suréchantillonnage(resample) pour les classes minoritaires comme ELDR et Verts-ALE.\n",
    "> 2. Validation croisée K folds et Grid Searche pour fixer les paramètres"
   ]
  },
  {
   "cell_type": "code",
   "execution_count": 48,
   "id": "cea113c9",
   "metadata": {},
   "outputs": [],
   "source": [
    "# SMOTE resample\n",
    "from sklearn.preprocessing import LabelEncoder\n",
    "from imblearn.over_sampling import SMOTE\n",
    "from sklearn.metrics import classification_report, accuracy_score"
   ]
  },
  {
   "cell_type": "code",
   "execution_count": 49,
   "id": "92ac528c",
   "metadata": {},
   "outputs": [],
   "source": [
    "label_encoder = LabelEncoder()\n",
    "\n",
    "# Cette fonction effectue un suréchantillonnage des données d'origine\n",
    "# et fusionne print_scores pour afficher directement les résultats.\n",
    "def evaluate_smote(X_train, X_test, y_train, y_test, model):\n",
    "    y_train_encoded = label_encoder.fit_transform(y_train)\n",
    "    \n",
    "    smote = SMOTE(random_state=42)\n",
    "    X_train_resampled, y_train_resampled = smote.fit_resample(X_train, y_train_encoded)\n",
    "    \n",
    "    model.fit(X_train_resampled, y_train_resampled)\n",
    "    \n",
    "    y_pred_encoded = model.predict(X_test)\n",
    "    \n",
    "    y_pred = label_encoder.inverse_transform(y_pred_encoded)\n",
    "    \n",
    "    return print_scores(y_test, y_pred)"
   ]
  },
  {
   "cell_type": "code",
   "execution_count": 108,
   "id": "2407e3cf",
   "metadata": {},
   "outputs": [
    {
     "name": "stdout",
     "output_type": "stream",
     "text": [
      "Accuracy: 0.7698443429102455\n",
      "Kappa Score: 0.6829489037114442\n",
      "Classification Report:\n",
      "               precision    recall  f1-score   support\n",
      "\n",
      "        ELDR       0.96      0.63      0.76      1339\n",
      "     GUE-NGL       0.89      0.78      0.83      1792\n",
      "      PPE-DE       0.67      0.91      0.77      4571\n",
      "         PSE       0.80      0.70      0.75      3626\n",
      "   Verts-ALE       0.95      0.63      0.76      1585\n",
      "\n",
      "    accuracy                           0.77     12913\n",
      "   macro avg       0.85      0.73      0.77     12913\n",
      "weighted avg       0.80      0.77      0.77     12913\n",
      "\n"
     ]
    }
   ],
   "source": [
    "model = RandomForestClassifier(n_estimators = 200)\n",
    "evaluate_smote(X_train_fr, X_test_fr, y_train_fr, y_test_fr, model)"
   ]
  },
  {
   "cell_type": "markdown",
   "id": "355b051b",
   "metadata": {},
   "source": [
    "---"
   ]
  },
  {
   "cell_type": "code",
   "execution_count": 40,
   "id": "bde3d00b",
   "metadata": {},
   "outputs": [
    {
     "name": "stdout",
     "output_type": "stream",
     "text": [
      "precision scores pour chaque fold: [0.40614511 0.41105086 0.40562871 0.40846889 0.4069197 ]\n",
      "Average precision: 0.4076426542731733\n"
     ]
    }
   ],
   "source": [
    "# validation croisée K folds\n",
    "\n",
    "# definir le model\n",
    "model = RandomForestClassifier(n_estimators = 200)\n",
    "k = 5\n",
    "scores = cross_val_score(model, X_train_fr, y_train_fr, cv=k)\n",
    "\n",
    "# output les precisions de chaque fold\n",
    "print(f\"precision scores pour chaque fold: {scores}\")\n",
    "import numpy as np\n",
    "from sklearn.model_selection import RandomizedSearchCV\n",
    "print(f\"Average precision: {scores.mean()}\")"
   ]
  },
  {
   "cell_type": "code",
   "execution_count": 106,
   "id": "3e97328d",
   "metadata": {},
   "outputs": [],
   "source": [
    "logreg = RandomForestClassifier()\n",
    "\n",
    "param_grid = {\n",
    "    'C': [0.001, 0.01, 0.1, 1, 10, 100, 1000],  # 正则化强度的倒数\n",
    "    'penalty': ['l1', 'l2'],  # 使用的正则化项\n",
    "    'solver': ['liblinear', 'saga'],  # 优化算法\n",
    "    'max_iter': [100, 500, 1000, 5000]  # 迭代次数\n",
    "}"
   ]
  },
  {
   "cell_type": "code",
   "execution_count": 89,
   "id": "9f4e9f3f",
   "metadata": {},
   "outputs": [
    {
     "name": "stdout",
     "output_type": "stream",
     "text": [
      "Fitting 5 folds for each of 112 candidates, totalling 560 fits\n"
     ]
    },
    {
     "name": "stderr",
     "output_type": "stream",
     "text": [
      "/Users/xiaohua/opt/anaconda3/envs/macrun/lib/python3.9/site-packages/sklearn/linear_model/_sag.py:350: ConvergenceWarning: The max_iter was reached which means the coef_ did not converge\n",
      "  warnings.warn(\n",
      "/Users/xiaohua/opt/anaconda3/envs/macrun/lib/python3.9/site-packages/sklearn/linear_model/_sag.py:350: ConvergenceWarning: The max_iter was reached which means the coef_ did not converge\n",
      "  warnings.warn(\n",
      "/Users/xiaohua/opt/anaconda3/envs/macrun/lib/python3.9/site-packages/sklearn/linear_model/_sag.py:350: ConvergenceWarning: The max_iter was reached which means the coef_ did not converge\n",
      "  warnings.warn(\n",
      "/Users/xiaohua/opt/anaconda3/envs/macrun/lib/python3.9/site-packages/sklearn/linear_model/_sag.py:350: ConvergenceWarning: The max_iter was reached which means the coef_ did not converge\n",
      "  warnings.warn(\n",
      "/Users/xiaohua/opt/anaconda3/envs/macrun/lib/python3.9/site-packages/sklearn/linear_model/_sag.py:350: ConvergenceWarning: The max_iter was reached which means the coef_ did not converge\n",
      "  warnings.warn(\n",
      "/Users/xiaohua/opt/anaconda3/envs/macrun/lib/python3.9/site-packages/sklearn/linear_model/_sag.py:350: ConvergenceWarning: The max_iter was reached which means the coef_ did not converge\n",
      "  warnings.warn(\n",
      "/Users/xiaohua/opt/anaconda3/envs/macrun/lib/python3.9/site-packages/sklearn/linear_model/_sag.py:350: ConvergenceWarning: The max_iter was reached which means the coef_ did not converge\n",
      "  warnings.warn(\n",
      "/Users/xiaohua/opt/anaconda3/envs/macrun/lib/python3.9/site-packages/sklearn/linear_model/_sag.py:350: ConvergenceWarning: The max_iter was reached which means the coef_ did not converge\n",
      "  warnings.warn(\n",
      "/Users/xiaohua/opt/anaconda3/envs/macrun/lib/python3.9/site-packages/sklearn/linear_model/_sag.py:350: ConvergenceWarning: The max_iter was reached which means the coef_ did not converge\n",
      "  warnings.warn(\n",
      "/Users/xiaohua/opt/anaconda3/envs/macrun/lib/python3.9/site-packages/sklearn/linear_model/_sag.py:350: ConvergenceWarning: The max_iter was reached which means the coef_ did not converge\n",
      "  warnings.warn(\n",
      "/Users/xiaohua/opt/anaconda3/envs/macrun/lib/python3.9/site-packages/sklearn/linear_model/_sag.py:350: ConvergenceWarning: The max_iter was reached which means the coef_ did not converge\n",
      "  warnings.warn(\n",
      "/Users/xiaohua/opt/anaconda3/envs/macrun/lib/python3.9/site-packages/sklearn/linear_model/_sag.py:350: ConvergenceWarning: The max_iter was reached which means the coef_ did not converge\n",
      "  warnings.warn(\n",
      "/Users/xiaohua/opt/anaconda3/envs/macrun/lib/python3.9/site-packages/sklearn/linear_model/_sag.py:350: ConvergenceWarning: The max_iter was reached which means the coef_ did not converge\n",
      "  warnings.warn(\n"
     ]
    },
    {
     "ename": "KeyboardInterrupt",
     "evalue": "",
     "output_type": "error",
     "traceback": [
      "\u001b[0;31m---------------------------------------------------------------------------\u001b[0m",
      "\u001b[0;31mKeyboardInterrupt\u001b[0m                         Traceback (most recent call last)",
      "Cell \u001b[0;32mIn[89], line 2\u001b[0m\n\u001b[1;32m      1\u001b[0m grid_search \u001b[38;5;241m=\u001b[39m GridSearchCV(logreg, param_grid, cv\u001b[38;5;241m=\u001b[39m\u001b[38;5;241m5\u001b[39m, scoring\u001b[38;5;241m=\u001b[39m\u001b[38;5;124m'\u001b[39m\u001b[38;5;124maccuracy\u001b[39m\u001b[38;5;124m'\u001b[39m, verbose\u001b[38;5;241m=\u001b[39m\u001b[38;5;241m1\u001b[39m, n_jobs\u001b[38;5;241m=\u001b[39m\u001b[38;5;241m-\u001b[39m\u001b[38;5;241m1\u001b[39m)\n\u001b[0;32m----> 2\u001b[0m \u001b[43mgrid_search\u001b[49m\u001b[38;5;241;43m.\u001b[39;49m\u001b[43mfit\u001b[49m\u001b[43m(\u001b[49m\u001b[43mX_train_fr\u001b[49m\u001b[43m,\u001b[49m\u001b[43m \u001b[49m\u001b[43my_train_fr\u001b[49m\u001b[43m)\u001b[49m\n\u001b[1;32m      3\u001b[0m \u001b[38;5;28mprint\u001b[39m(\u001b[38;5;124m\"\u001b[39m\u001b[38;5;124mBest parameters found: \u001b[39m\u001b[38;5;124m\"\u001b[39m, grid_search\u001b[38;5;241m.\u001b[39mbest_params_)\n\u001b[1;32m      4\u001b[0m \u001b[38;5;28mprint\u001b[39m(\u001b[38;5;124m\"\u001b[39m\u001b[38;5;124mBest cross-validated score: \u001b[39m\u001b[38;5;124m\"\u001b[39m, grid_search\u001b[38;5;241m.\u001b[39mbest_score_)\n",
      "File \u001b[0;32m~/opt/anaconda3/envs/macrun/lib/python3.9/site-packages/sklearn/base.py:1152\u001b[0m, in \u001b[0;36m_fit_context.<locals>.decorator.<locals>.wrapper\u001b[0;34m(estimator, *args, **kwargs)\u001b[0m\n\u001b[1;32m   1145\u001b[0m     estimator\u001b[38;5;241m.\u001b[39m_validate_params()\n\u001b[1;32m   1147\u001b[0m \u001b[38;5;28;01mwith\u001b[39;00m config_context(\n\u001b[1;32m   1148\u001b[0m     skip_parameter_validation\u001b[38;5;241m=\u001b[39m(\n\u001b[1;32m   1149\u001b[0m         prefer_skip_nested_validation \u001b[38;5;129;01mor\u001b[39;00m global_skip_validation\n\u001b[1;32m   1150\u001b[0m     )\n\u001b[1;32m   1151\u001b[0m ):\n\u001b[0;32m-> 1152\u001b[0m     \u001b[38;5;28;01mreturn\u001b[39;00m \u001b[43mfit_method\u001b[49m\u001b[43m(\u001b[49m\u001b[43mestimator\u001b[49m\u001b[43m,\u001b[49m\u001b[43m \u001b[49m\u001b[38;5;241;43m*\u001b[39;49m\u001b[43margs\u001b[49m\u001b[43m,\u001b[49m\u001b[43m \u001b[49m\u001b[38;5;241;43m*\u001b[39;49m\u001b[38;5;241;43m*\u001b[39;49m\u001b[43mkwargs\u001b[49m\u001b[43m)\u001b[49m\n",
      "File \u001b[0;32m~/opt/anaconda3/envs/macrun/lib/python3.9/site-packages/sklearn/model_selection/_search.py:898\u001b[0m, in \u001b[0;36mBaseSearchCV.fit\u001b[0;34m(self, X, y, groups, **fit_params)\u001b[0m\n\u001b[1;32m    892\u001b[0m     results \u001b[38;5;241m=\u001b[39m \u001b[38;5;28mself\u001b[39m\u001b[38;5;241m.\u001b[39m_format_results(\n\u001b[1;32m    893\u001b[0m         all_candidate_params, n_splits, all_out, all_more_results\n\u001b[1;32m    894\u001b[0m     )\n\u001b[1;32m    896\u001b[0m     \u001b[38;5;28;01mreturn\u001b[39;00m results\n\u001b[0;32m--> 898\u001b[0m \u001b[38;5;28;43mself\u001b[39;49m\u001b[38;5;241;43m.\u001b[39;49m\u001b[43m_run_search\u001b[49m\u001b[43m(\u001b[49m\u001b[43mevaluate_candidates\u001b[49m\u001b[43m)\u001b[49m\n\u001b[1;32m    900\u001b[0m \u001b[38;5;66;03m# multimetric is determined here because in the case of a callable\u001b[39;00m\n\u001b[1;32m    901\u001b[0m \u001b[38;5;66;03m# self.scoring the return type is only known after calling\u001b[39;00m\n\u001b[1;32m    902\u001b[0m first_test_score \u001b[38;5;241m=\u001b[39m all_out[\u001b[38;5;241m0\u001b[39m][\u001b[38;5;124m\"\u001b[39m\u001b[38;5;124mtest_scores\u001b[39m\u001b[38;5;124m\"\u001b[39m]\n",
      "File \u001b[0;32m~/opt/anaconda3/envs/macrun/lib/python3.9/site-packages/sklearn/model_selection/_search.py:1422\u001b[0m, in \u001b[0;36mGridSearchCV._run_search\u001b[0;34m(self, evaluate_candidates)\u001b[0m\n\u001b[1;32m   1420\u001b[0m \u001b[38;5;28;01mdef\u001b[39;00m \u001b[38;5;21m_run_search\u001b[39m(\u001b[38;5;28mself\u001b[39m, evaluate_candidates):\n\u001b[1;32m   1421\u001b[0m     \u001b[38;5;124;03m\"\"\"Search all candidates in param_grid\"\"\"\u001b[39;00m\n\u001b[0;32m-> 1422\u001b[0m     \u001b[43mevaluate_candidates\u001b[49m\u001b[43m(\u001b[49m\u001b[43mParameterGrid\u001b[49m\u001b[43m(\u001b[49m\u001b[38;5;28;43mself\u001b[39;49m\u001b[38;5;241;43m.\u001b[39;49m\u001b[43mparam_grid\u001b[49m\u001b[43m)\u001b[49m\u001b[43m)\u001b[49m\n",
      "File \u001b[0;32m~/opt/anaconda3/envs/macrun/lib/python3.9/site-packages/sklearn/model_selection/_search.py:845\u001b[0m, in \u001b[0;36mBaseSearchCV.fit.<locals>.evaluate_candidates\u001b[0;34m(candidate_params, cv, more_results)\u001b[0m\n\u001b[1;32m    837\u001b[0m \u001b[38;5;28;01mif\u001b[39;00m \u001b[38;5;28mself\u001b[39m\u001b[38;5;241m.\u001b[39mverbose \u001b[38;5;241m>\u001b[39m \u001b[38;5;241m0\u001b[39m:\n\u001b[1;32m    838\u001b[0m     \u001b[38;5;28mprint\u001b[39m(\n\u001b[1;32m    839\u001b[0m         \u001b[38;5;124m\"\u001b[39m\u001b[38;5;124mFitting \u001b[39m\u001b[38;5;132;01m{0}\u001b[39;00m\u001b[38;5;124m folds for each of \u001b[39m\u001b[38;5;132;01m{1}\u001b[39;00m\u001b[38;5;124m candidates,\u001b[39m\u001b[38;5;124m\"\u001b[39m\n\u001b[1;32m    840\u001b[0m         \u001b[38;5;124m\"\u001b[39m\u001b[38;5;124m totalling \u001b[39m\u001b[38;5;132;01m{2}\u001b[39;00m\u001b[38;5;124m fits\u001b[39m\u001b[38;5;124m\"\u001b[39m\u001b[38;5;241m.\u001b[39mformat(\n\u001b[1;32m    841\u001b[0m             n_splits, n_candidates, n_candidates \u001b[38;5;241m*\u001b[39m n_splits\n\u001b[1;32m    842\u001b[0m         )\n\u001b[1;32m    843\u001b[0m     )\n\u001b[0;32m--> 845\u001b[0m out \u001b[38;5;241m=\u001b[39m \u001b[43mparallel\u001b[49m\u001b[43m(\u001b[49m\n\u001b[1;32m    846\u001b[0m \u001b[43m    \u001b[49m\u001b[43mdelayed\u001b[49m\u001b[43m(\u001b[49m\u001b[43m_fit_and_score\u001b[49m\u001b[43m)\u001b[49m\u001b[43m(\u001b[49m\n\u001b[1;32m    847\u001b[0m \u001b[43m        \u001b[49m\u001b[43mclone\u001b[49m\u001b[43m(\u001b[49m\u001b[43mbase_estimator\u001b[49m\u001b[43m)\u001b[49m\u001b[43m,\u001b[49m\n\u001b[1;32m    848\u001b[0m \u001b[43m        \u001b[49m\u001b[43mX\u001b[49m\u001b[43m,\u001b[49m\n\u001b[1;32m    849\u001b[0m \u001b[43m        \u001b[49m\u001b[43my\u001b[49m\u001b[43m,\u001b[49m\n\u001b[1;32m    850\u001b[0m \u001b[43m        \u001b[49m\u001b[43mtrain\u001b[49m\u001b[38;5;241;43m=\u001b[39;49m\u001b[43mtrain\u001b[49m\u001b[43m,\u001b[49m\n\u001b[1;32m    851\u001b[0m \u001b[43m        \u001b[49m\u001b[43mtest\u001b[49m\u001b[38;5;241;43m=\u001b[39;49m\u001b[43mtest\u001b[49m\u001b[43m,\u001b[49m\n\u001b[1;32m    852\u001b[0m \u001b[43m        \u001b[49m\u001b[43mparameters\u001b[49m\u001b[38;5;241;43m=\u001b[39;49m\u001b[43mparameters\u001b[49m\u001b[43m,\u001b[49m\n\u001b[1;32m    853\u001b[0m \u001b[43m        \u001b[49m\u001b[43msplit_progress\u001b[49m\u001b[38;5;241;43m=\u001b[39;49m\u001b[43m(\u001b[49m\u001b[43msplit_idx\u001b[49m\u001b[43m,\u001b[49m\u001b[43m \u001b[49m\u001b[43mn_splits\u001b[49m\u001b[43m)\u001b[49m\u001b[43m,\u001b[49m\n\u001b[1;32m    854\u001b[0m \u001b[43m        \u001b[49m\u001b[43mcandidate_progress\u001b[49m\u001b[38;5;241;43m=\u001b[39;49m\u001b[43m(\u001b[49m\u001b[43mcand_idx\u001b[49m\u001b[43m,\u001b[49m\u001b[43m \u001b[49m\u001b[43mn_candidates\u001b[49m\u001b[43m)\u001b[49m\u001b[43m,\u001b[49m\n\u001b[1;32m    855\u001b[0m \u001b[43m        \u001b[49m\u001b[38;5;241;43m*\u001b[39;49m\u001b[38;5;241;43m*\u001b[39;49m\u001b[43mfit_and_score_kwargs\u001b[49m\u001b[43m,\u001b[49m\n\u001b[1;32m    856\u001b[0m \u001b[43m    \u001b[49m\u001b[43m)\u001b[49m\n\u001b[1;32m    857\u001b[0m \u001b[43m    \u001b[49m\u001b[38;5;28;43;01mfor\u001b[39;49;00m\u001b[43m \u001b[49m\u001b[43m(\u001b[49m\u001b[43mcand_idx\u001b[49m\u001b[43m,\u001b[49m\u001b[43m \u001b[49m\u001b[43mparameters\u001b[49m\u001b[43m)\u001b[49m\u001b[43m,\u001b[49m\u001b[43m \u001b[49m\u001b[43m(\u001b[49m\u001b[43msplit_idx\u001b[49m\u001b[43m,\u001b[49m\u001b[43m \u001b[49m\u001b[43m(\u001b[49m\u001b[43mtrain\u001b[49m\u001b[43m,\u001b[49m\u001b[43m \u001b[49m\u001b[43mtest\u001b[49m\u001b[43m)\u001b[49m\u001b[43m)\u001b[49m\u001b[43m \u001b[49m\u001b[38;5;129;43;01min\u001b[39;49;00m\u001b[43m \u001b[49m\u001b[43mproduct\u001b[49m\u001b[43m(\u001b[49m\n\u001b[1;32m    858\u001b[0m \u001b[43m        \u001b[49m\u001b[38;5;28;43menumerate\u001b[39;49m\u001b[43m(\u001b[49m\u001b[43mcandidate_params\u001b[49m\u001b[43m)\u001b[49m\u001b[43m,\u001b[49m\u001b[43m \u001b[49m\u001b[38;5;28;43menumerate\u001b[39;49m\u001b[43m(\u001b[49m\u001b[43mcv\u001b[49m\u001b[38;5;241;43m.\u001b[39;49m\u001b[43msplit\u001b[49m\u001b[43m(\u001b[49m\u001b[43mX\u001b[49m\u001b[43m,\u001b[49m\u001b[43m \u001b[49m\u001b[43my\u001b[49m\u001b[43m,\u001b[49m\u001b[43m \u001b[49m\u001b[43mgroups\u001b[49m\u001b[43m)\u001b[49m\u001b[43m)\u001b[49m\n\u001b[1;32m    859\u001b[0m \u001b[43m    \u001b[49m\u001b[43m)\u001b[49m\n\u001b[1;32m    860\u001b[0m \u001b[43m\u001b[49m\u001b[43m)\u001b[49m\n\u001b[1;32m    862\u001b[0m \u001b[38;5;28;01mif\u001b[39;00m \u001b[38;5;28mlen\u001b[39m(out) \u001b[38;5;241m<\u001b[39m \u001b[38;5;241m1\u001b[39m:\n\u001b[1;32m    863\u001b[0m     \u001b[38;5;28;01mraise\u001b[39;00m \u001b[38;5;167;01mValueError\u001b[39;00m(\n\u001b[1;32m    864\u001b[0m         \u001b[38;5;124m\"\u001b[39m\u001b[38;5;124mNo fits were performed. \u001b[39m\u001b[38;5;124m\"\u001b[39m\n\u001b[1;32m    865\u001b[0m         \u001b[38;5;124m\"\u001b[39m\u001b[38;5;124mWas the CV iterator empty? \u001b[39m\u001b[38;5;124m\"\u001b[39m\n\u001b[1;32m    866\u001b[0m         \u001b[38;5;124m\"\u001b[39m\u001b[38;5;124mWere there no candidates?\u001b[39m\u001b[38;5;124m\"\u001b[39m\n\u001b[1;32m    867\u001b[0m     )\n",
      "File \u001b[0;32m~/opt/anaconda3/envs/macrun/lib/python3.9/site-packages/sklearn/utils/parallel.py:65\u001b[0m, in \u001b[0;36mParallel.__call__\u001b[0;34m(self, iterable)\u001b[0m\n\u001b[1;32m     60\u001b[0m config \u001b[38;5;241m=\u001b[39m get_config()\n\u001b[1;32m     61\u001b[0m iterable_with_config \u001b[38;5;241m=\u001b[39m (\n\u001b[1;32m     62\u001b[0m     (_with_config(delayed_func, config), args, kwargs)\n\u001b[1;32m     63\u001b[0m     \u001b[38;5;28;01mfor\u001b[39;00m delayed_func, args, kwargs \u001b[38;5;129;01min\u001b[39;00m iterable\n\u001b[1;32m     64\u001b[0m )\n\u001b[0;32m---> 65\u001b[0m \u001b[38;5;28;01mreturn\u001b[39;00m \u001b[38;5;28;43msuper\u001b[39;49m\u001b[43m(\u001b[49m\u001b[43m)\u001b[49m\u001b[38;5;241;43m.\u001b[39;49m\u001b[38;5;21;43m__call__\u001b[39;49m\u001b[43m(\u001b[49m\u001b[43miterable_with_config\u001b[49m\u001b[43m)\u001b[49m\n",
      "File \u001b[0;32m~/opt/anaconda3/envs/macrun/lib/python3.9/site-packages/joblib/parallel.py:1098\u001b[0m, in \u001b[0;36mParallel.__call__\u001b[0;34m(self, iterable)\u001b[0m\n\u001b[1;32m   1095\u001b[0m     \u001b[38;5;28mself\u001b[39m\u001b[38;5;241m.\u001b[39m_iterating \u001b[38;5;241m=\u001b[39m \u001b[38;5;28;01mFalse\u001b[39;00m\n\u001b[1;32m   1097\u001b[0m \u001b[38;5;28;01mwith\u001b[39;00m \u001b[38;5;28mself\u001b[39m\u001b[38;5;241m.\u001b[39m_backend\u001b[38;5;241m.\u001b[39mretrieval_context():\n\u001b[0;32m-> 1098\u001b[0m     \u001b[38;5;28;43mself\u001b[39;49m\u001b[38;5;241;43m.\u001b[39;49m\u001b[43mretrieve\u001b[49m\u001b[43m(\u001b[49m\u001b[43m)\u001b[49m\n\u001b[1;32m   1099\u001b[0m \u001b[38;5;66;03m# Make sure that we get a last message telling us we are done\u001b[39;00m\n\u001b[1;32m   1100\u001b[0m elapsed_time \u001b[38;5;241m=\u001b[39m time\u001b[38;5;241m.\u001b[39mtime() \u001b[38;5;241m-\u001b[39m \u001b[38;5;28mself\u001b[39m\u001b[38;5;241m.\u001b[39m_start_time\n",
      "File \u001b[0;32m~/opt/anaconda3/envs/macrun/lib/python3.9/site-packages/joblib/parallel.py:975\u001b[0m, in \u001b[0;36mParallel.retrieve\u001b[0;34m(self)\u001b[0m\n\u001b[1;32m    973\u001b[0m \u001b[38;5;28;01mtry\u001b[39;00m:\n\u001b[1;32m    974\u001b[0m     \u001b[38;5;28;01mif\u001b[39;00m \u001b[38;5;28mgetattr\u001b[39m(\u001b[38;5;28mself\u001b[39m\u001b[38;5;241m.\u001b[39m_backend, \u001b[38;5;124m'\u001b[39m\u001b[38;5;124msupports_timeout\u001b[39m\u001b[38;5;124m'\u001b[39m, \u001b[38;5;28;01mFalse\u001b[39;00m):\n\u001b[0;32m--> 975\u001b[0m         \u001b[38;5;28mself\u001b[39m\u001b[38;5;241m.\u001b[39m_output\u001b[38;5;241m.\u001b[39mextend(\u001b[43mjob\u001b[49m\u001b[38;5;241;43m.\u001b[39;49m\u001b[43mget\u001b[49m\u001b[43m(\u001b[49m\u001b[43mtimeout\u001b[49m\u001b[38;5;241;43m=\u001b[39;49m\u001b[38;5;28;43mself\u001b[39;49m\u001b[38;5;241;43m.\u001b[39;49m\u001b[43mtimeout\u001b[49m\u001b[43m)\u001b[49m)\n\u001b[1;32m    976\u001b[0m     \u001b[38;5;28;01melse\u001b[39;00m:\n\u001b[1;32m    977\u001b[0m         \u001b[38;5;28mself\u001b[39m\u001b[38;5;241m.\u001b[39m_output\u001b[38;5;241m.\u001b[39mextend(job\u001b[38;5;241m.\u001b[39mget())\n",
      "File \u001b[0;32m~/opt/anaconda3/envs/macrun/lib/python3.9/site-packages/joblib/_parallel_backends.py:567\u001b[0m, in \u001b[0;36mLokyBackend.wrap_future_result\u001b[0;34m(future, timeout)\u001b[0m\n\u001b[1;32m    564\u001b[0m \u001b[38;5;124;03m\"\"\"Wrapper for Future.result to implement the same behaviour as\u001b[39;00m\n\u001b[1;32m    565\u001b[0m \u001b[38;5;124;03mAsyncResults.get from multiprocessing.\"\"\"\u001b[39;00m\n\u001b[1;32m    566\u001b[0m \u001b[38;5;28;01mtry\u001b[39;00m:\n\u001b[0;32m--> 567\u001b[0m     \u001b[38;5;28;01mreturn\u001b[39;00m \u001b[43mfuture\u001b[49m\u001b[38;5;241;43m.\u001b[39;49m\u001b[43mresult\u001b[49m\u001b[43m(\u001b[49m\u001b[43mtimeout\u001b[49m\u001b[38;5;241;43m=\u001b[39;49m\u001b[43mtimeout\u001b[49m\u001b[43m)\u001b[49m\n\u001b[1;32m    568\u001b[0m \u001b[38;5;28;01mexcept\u001b[39;00m CfTimeoutError \u001b[38;5;28;01mas\u001b[39;00m e:\n\u001b[1;32m    569\u001b[0m     \u001b[38;5;28;01mraise\u001b[39;00m \u001b[38;5;167;01mTimeoutError\u001b[39;00m \u001b[38;5;28;01mfrom\u001b[39;00m \u001b[38;5;21;01me\u001b[39;00m\n",
      "File \u001b[0;32m~/opt/anaconda3/envs/macrun/lib/python3.9/concurrent/futures/_base.py:441\u001b[0m, in \u001b[0;36mFuture.result\u001b[0;34m(self, timeout)\u001b[0m\n\u001b[1;32m    438\u001b[0m \u001b[38;5;28;01melif\u001b[39;00m \u001b[38;5;28mself\u001b[39m\u001b[38;5;241m.\u001b[39m_state \u001b[38;5;241m==\u001b[39m FINISHED:\n\u001b[1;32m    439\u001b[0m     \u001b[38;5;28;01mreturn\u001b[39;00m \u001b[38;5;28mself\u001b[39m\u001b[38;5;241m.\u001b[39m__get_result()\n\u001b[0;32m--> 441\u001b[0m \u001b[38;5;28;43mself\u001b[39;49m\u001b[38;5;241;43m.\u001b[39;49m\u001b[43m_condition\u001b[49m\u001b[38;5;241;43m.\u001b[39;49m\u001b[43mwait\u001b[49m\u001b[43m(\u001b[49m\u001b[43mtimeout\u001b[49m\u001b[43m)\u001b[49m\n\u001b[1;32m    443\u001b[0m \u001b[38;5;28;01mif\u001b[39;00m \u001b[38;5;28mself\u001b[39m\u001b[38;5;241m.\u001b[39m_state \u001b[38;5;129;01min\u001b[39;00m [CANCELLED, CANCELLED_AND_NOTIFIED]:\n\u001b[1;32m    444\u001b[0m     \u001b[38;5;28;01mraise\u001b[39;00m CancelledError()\n",
      "File \u001b[0;32m~/opt/anaconda3/envs/macrun/lib/python3.9/threading.py:312\u001b[0m, in \u001b[0;36mCondition.wait\u001b[0;34m(self, timeout)\u001b[0m\n\u001b[1;32m    310\u001b[0m \u001b[38;5;28;01mtry\u001b[39;00m:    \u001b[38;5;66;03m# restore state no matter what (e.g., KeyboardInterrupt)\u001b[39;00m\n\u001b[1;32m    311\u001b[0m     \u001b[38;5;28;01mif\u001b[39;00m timeout \u001b[38;5;129;01mis\u001b[39;00m \u001b[38;5;28;01mNone\u001b[39;00m:\n\u001b[0;32m--> 312\u001b[0m         \u001b[43mwaiter\u001b[49m\u001b[38;5;241;43m.\u001b[39;49m\u001b[43macquire\u001b[49m\u001b[43m(\u001b[49m\u001b[43m)\u001b[49m\n\u001b[1;32m    313\u001b[0m         gotit \u001b[38;5;241m=\u001b[39m \u001b[38;5;28;01mTrue\u001b[39;00m\n\u001b[1;32m    314\u001b[0m     \u001b[38;5;28;01melse\u001b[39;00m:\n",
      "\u001b[0;31mKeyboardInterrupt\u001b[0m: "
     ]
    }
   ],
   "source": [
    "grid_search = GridSearchCV(logreg, param_grid, cv=5, scoring='accuracy', verbose=1, n_jobs=-1)\n",
    "grid_search.fit(X_train_fr, y_train_fr)\n",
    "print(\"Best parameters: \", grid_search.best_params_)\n",
    "print(\"Best cross-validated score: \", grid_search.best_score_)\n",
    "\n",
    "# too long, computer too hot and fans ran so fast, I gave up."
   ]
  },
  {
   "cell_type": "markdown",
   "id": "b354a70d",
   "metadata": {},
   "source": [
    "---"
   ]
  },
  {
   "cell_type": "markdown",
   "id": "c0a174e9",
   "metadata": {},
   "source": [
    "# 5. Visualisation des scores et de matrix"
   ]
  },
  {
   "cell_type": "code",
   "execution_count": 26,
   "id": "d9646454",
   "metadata": {},
   "outputs": [],
   "source": [
    "for i in (y_test_fr):\n",
    "    with open(\"y_test_fr.txt\", \"a\") as f:\n",
    "        f.write(str(i) + \"\\n\")\n",
    "for i in (y_pred_fr):\n",
    "    with open(\"y_pred_fr.txt\", \"a\") as f:\n",
    "        f.write(str(i) + \"\\n\")"
   ]
  },
  {
   "cell_type": "code",
   "execution_count": 27,
   "id": "58918b9f",
   "metadata": {},
   "outputs": [],
   "source": [
    "from sklearn.metrics import classification_report, accuracy_score, cohen_kappa_score"
   ]
  },
  {
   "cell_type": "code",
   "execution_count": 28,
   "id": "2263d911",
   "metadata": {},
   "outputs": [],
   "source": [
    "def print_scores(y_test, y_pred):\n",
    "    '''\n",
    "    Afficher les scores d'évaluation du modèle choisi\n",
    "    '''\n",
    "    accuracy = accuracy_score(y_test, y_pred)\n",
    "    kappa = cohen_kappa_score(y_test, y_pred)\n",
    "    report = classification_report(y_test, y_pred)\n",
    "\n",
    "    print(\"Accuracy:\", accuracy)\n",
    "    print(\"Kappa Score:\", kappa)\n",
    "    print(\"Classification Report:\\n\", report)"
   ]
  },
  {
   "cell_type": "code",
   "execution_count": 110,
   "id": "586a2da2",
   "metadata": {},
   "outputs": [
    {
     "name": "stdout",
     "output_type": "stream",
     "text": [
      "Accuracy: 0.7088205684194223\n",
      "Kappa Score: 0.5941860024173379\n",
      "Classification Report:\n",
      "               precision    recall  f1-score   support\n",
      "\n",
      "        ELDR       0.95      0.49      0.64      1339\n",
      "     GUE-NGL       0.90      0.62      0.73      1792\n",
      "      PPE-DE       0.64      0.87      0.74      4571\n",
      "         PSE       0.68      0.72      0.70      3626\n",
      "   Verts-ALE       0.91      0.50      0.65      1585\n",
      "\n",
      "    accuracy                           0.71     12913\n",
      "   macro avg       0.81      0.64      0.69     12913\n",
      "weighted avg       0.75      0.71      0.70     12913\n",
      "\n"
     ]
    }
   ],
   "source": [
    "print_scores(y_test_fr, y_pred_fr)"
   ]
  },
  {
   "cell_type": "code",
   "execution_count": 33,
   "id": "a478de65",
   "metadata": {},
   "outputs": [],
   "source": [
    "from sklearn.metrics import confusion_matrix\n",
    "import matplotlib.pyplot as plt\n",
    "import seaborn as sns"
   ]
  },
  {
   "cell_type": "code",
   "execution_count": 34,
   "id": "5dee597e",
   "metadata": {},
   "outputs": [],
   "source": [
    "def plot_confusion_matrix(y_test, y_pred, model):\n",
    "    '''\n",
    "    Sauvegarder la visualisation de la matrice de confusion du modèle choisi\n",
    "    '''\n",
    "    # obtenir les labels prédits par le modèle\n",
    "    unique_labels = sorted(set(y_test) | set(y_pred))\n",
    "\n",
    "    # générer la matrice de confusion en spécifiant les labels\n",
    "    conf_matrix = confusion_matrix(y_test, y_pred, labels=unique_labels)\n",
    "\n",
    "    # utiliser seaborn pour afficher la matrice de confusion sous forme de heatmap\n",
    "    plt.figure(figsize=(10, 8))\n",
    "    ax = sns.heatmap(conf_matrix, annot_kws={\"size\": 10}, annot=True, fmt='d', cmap='Greys', cbar=False,\n",
    "                     xticklabels=unique_labels, yticklabels=unique_labels)\n",
    "\n",
    "    # déplacer les étiquettes de l'axe x en haut\n",
    "    ax.xaxis.set_label_position('top') \n",
    "    ax.xaxis.tick_top()\n",
    "\n",
    "    plt.xlabel('Parti Prédit')\n",
    "    plt.ylabel('Parti Réel')\n",
    "    plt.title('Matrice de Confusion')\n",
    "\n",
    "    # sauvegarder la figure dans le dossier result\n",
    "    plt.savefig(f'./result/Confusion_Matrix_{model}.png', format='png', dpi=300)\n",
    "    \n",
    "    plt.show()\n"
   ]
  },
  {
   "cell_type": "code",
   "execution_count": 54,
   "id": "3f89c921",
   "metadata": {},
   "outputs": [
    {
     "data": {
      "image/png": "[encoded data removed]",
      "text/plain": [
       "<Figure size 1000x800 with 1 Axes>"
      ]
     },
     "metadata": {},
     "output_type": "display_data"
    }
   ],
   "source": [
    "plot_confusion_matrix(y_test_fr, y_pred_fr, 'xxx')"
   ]
  },
  {
   "cell_type": "markdown",
   "id": "b540e9ca",
   "metadata": {},
   "source": [
    "---"
   ]
  },
  {
   "cell_type": "code",
   "execution_count": null,
   "id": "e1a70bd9",
   "metadata": {},
   "outputs": [],
   "source": [
    "# learning curve\n",
    "import matplotlib.pyplot as plt\n",
    "import numpy as np\n",
    "from sklearn.model_selection import learning_curve\n",
    "from sklearn.model_selection import ShuffleSplit\n",
    "from sklearn.datasets import load_digits"
   ]
  },
  {
   "cell_type": "code",
   "execution_count": null,
   "id": "3f6e6dfd",
   "metadata": {},
   "outputs": [],
   "source": [
    "def plot_learning_curve(estimator, title, X, y, ylim=None, cv=None,\n",
    "                        n_jobs=None, train_sizes=np.linspace(.1, 1.0, 5)):\n",
    "    plt.figure()\n",
    "    plt.title(title)\n",
    "    if ylim is not None:\n",
    "        plt.ylim(*ylim)\n",
    "    plt.xlabel(\"Training exemples\")\n",
    "    plt.ylabel(\"Score\")\n",
    "    train_sizes, train_scores, test_scores = learning_curve(\n",
    "        estimator, X, y, cv=cv, n_jobs=n_jobs, train_sizes=train_sizes)\n",
    "    train_scores_mean = np.mean(train_scores, axis=1)\n",
    "    train_scores_std = np.std(train_scores, axis=1)\n",
    "    test_scores_mean = np.mean(test_scores, axis=1)\n",
    "    test_scores_std = np.std(test_scores, axis=1)\n",
    "    plt.grid()\n",
    "\n",
    "    plt.fill_between(train_sizes, train_scores_mean - train_scores_std,\n",
    "                     train_scores_mean + train_scores_std, alpha=0.1,\n",
    "                     color=\"r\")\n",
    "    plt.fill_between(train_sizes, test_scores_mean - test_scores_std,\n",
    "                     test_scores_mean + test_scores_std, alpha=0.1, color=\"black\")\n",
    "    plt.plot(train_sizes, train_scores_mean, 'o-', color=\"black\",\n",
    "             label=\"Training score\")\n",
    "    plt.plot(train_sizes, test_scores_mean, 'o-', color=\"black\",\n",
    "             label=\"Validation-croisée Score\")\n",
    "\n",
    "    plt.legend(loc=\"best\")\n",
    "    return plt"
   ]
  },
  {
   "cell_type": "code",
   "execution_count": null,
   "id": "4408a9b1",
   "metadata": {},
   "outputs": [],
   "source": [
    "\n",
    "model = LogisticRegression(max_iter=500, penalty='l2', C=0.01)\n",
    "\n",
    "plot_learning_curve(model, \"\", X_train_fr, y_train_fr, cv=5)\n",
    "\n",
    "plt.show()"
   ]
  },
  {
   "cell_type": "code",
   "execution_count": null,
   "id": "29c6bf4b",
   "metadata": {},
   "outputs": [],
   "source": []
  }
 ],
 "metadata": {
  "kernelspec": {
   "display_name": "Python 3 (ipykernel)",
   "language": "python",
   "name": "python3"
  },
  "language_info": {
   "codemirror_mode": {
    "name": "ipython",
    "version": 3
   },
   "file_extension": ".py",
   "mimetype": "text/x-python",
   "name": "python",
   "nbconvert_exporter": "python",
   "pygments_lexer": "ipython3",
   "version": "3.9.16"
  }
 },
 "nbformat": 4,
 "nbformat_minor": 5
}
