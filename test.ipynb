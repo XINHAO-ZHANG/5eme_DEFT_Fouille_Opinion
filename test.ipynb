{
 "cells": [
  {
   "cell_type": "markdown",
   "id": "6c1f8176",
   "metadata": {},
   "source": [
    "### 1.Transformer :  XML -> CSV  \n",
    "### \"texte, parti\"\n"
   ]
  },
  {
   "cell_type": "code",
   "execution_count": 1,
   "id": "bac31785",
   "metadata": {},
   "outputs": [],
   "source": [
    "import xml.etree.ElementTree as ET\n",
    "import pandas as pd"
   ]
  },
  {
   "cell_type": "code",
   "execution_count": 2,
   "id": "c3a76b3e",
   "metadata": {},
   "outputs": [],
   "source": [
    "def extract_data_brut(file_path,output_csv_path):\n",
    "    '''\n",
    "    extraire les textes et leurs parities à partir des corpus d'apprentissage bruts\n",
    "    et les conserver dans un fichier csv pour chaque langue\n",
    "    '''    \n",
    "    tree = ET.parse(file_path)\n",
    "    root = tree.getroot()\n",
    "    data = []\n",
    "    for doc in root.findall('.//doc'): \n",
    "        # obtenir tous les paragraphes du texte et les joindre en un seul\n",
    "        text_elements = doc.findall('.//texte//p')\n",
    "        texte = ' '.join([elem.text.strip() for elem in text_elements if elem.text])\n",
    "        # obtenir les partis politiques\n",
    "        partis = [parti.get('valeur') for parti in doc.findall('.//PARTI')]\n",
    "        for parti in partis:\n",
    "            data.append({'texte': texte, 'parti': parti})\n",
    "    # créer un dataframe et l'enregistrer dans un fichier csv\n",
    "    df = pd.DataFrame(data)\n",
    "    return df.to_csv(output_csv_path, index=False, encoding='utf-8')"
   ]
  },
  {
   "cell_type": "code",
   "execution_count": 3,
   "id": "89143407",
   "metadata": {},
   "outputs": [],
   "source": [
    "def extract_and_combine_text_label(xml_file_path, label_file_path, output_csv_path):\n",
    "    '''\n",
    "    extraire les textes tests dans les fichiers xml de et leurs labels des fichiers textes \n",
    "    et les combiner dans un seul fichier csv pour chaque langue\n",
    "    '''   \n",
    "    tree = ET.parse(xml_file_path)\n",
    "    root = tree.getroot()\n",
    "\n",
    "    test_data = []\n",
    "    for doc in root.findall('.//doc'):\n",
    "        # obtenir tous les paragraphes du texte et les joindre en un seul\n",
    "        text_elements = doc.findall('.//texte//p')\n",
    "        texte = ' '.join([elem.text.strip() for elem in text_elements if elem.text])\n",
    "        test_data.append({'texte': texte})\n",
    "\n",
    "    texte_df = pd.DataFrame(test_data)\n",
    "\n",
    "    # lecture des labels à partir du fichier txt et les combiner avec les textes dans un même dataframe\n",
    "    labels_df = pd.read_csv(label_file_path, sep='\\t', header=None, names=['id', 'parti'])\n",
    "    labels_df.set_index('id', inplace=True)\n",
    "    \n",
    "    # ajouter une colonne id pour pouvoir joindre les deux dataframes\n",
    "    texte_df['id'] = range(1, len(texte_df) + 1)\n",
    "    texte_df.set_index('id', inplace=True)\n",
    "    # output est comme : [id, label]\n",
    "\n",
    "    # joindre les deux dataframes en utilisant l'index id comme clé de jointure \n",
    "    combined_df = texte_df.join(labels_df, how='left')\n",
    "    # output est comme : [id, texte, label]\n",
    "    \n",
    "    combined_df.to_csv(output_csv_path, index=False)"
   ]
  },
  {
   "cell_type": "code",
   "execution_count": 4,
   "id": "26c6295e",
   "metadata": {},
   "outputs": [],
   "source": [
    "# extraire les apprentissages bruts\n",
    "for lang in ['fr', 'en', 'it']:\n",
    "    extract_data_brut(f'./corpus/deft09_appr/deft09_parlement_appr_{lang}.xml', f'./data/texte_brut/appr_brut_{lang}.csv')"
   ]
  },
  {
   "cell_type": "code",
   "execution_count": 5,
   "id": "e91254a8",
   "metadata": {},
   "outputs": [],
   "source": [
    "# extraire les tests bruts\n",
    "for lang in ['fr', 'en', 'it']: \n",
    "    extract_and_combine_text_label(f'./corpus/deft09_test/deft09_parlement_test_{lang}.xml', f'./corpus/deft09_ref/deft09_parlement_ref_{lang}.txt', f'./data/texte_brut/test_brut_{lang}.csv')"
   ]
  },
  {
   "cell_type": "markdown",
   "id": "56b485e2",
   "metadata": {},
   "source": [
    "**Jusqu'a maintenant, on a obtenu les textes et leur parti label pour chaque langue dans un fichier csv**"
   ]
  },
  {
   "cell_type": "markdown",
   "id": "77a3744e",
   "metadata": {},
   "source": [
    "### pretraitement"
   ]
  },
  {
   "cell_type": "code",
   "execution_count": 4,
   "id": "5e04092a",
   "metadata": {},
   "outputs": [
    {
     "name": "stderr",
     "output_type": "stream",
     "text": [
      "[nltk_data] Downloading package stopwords to\n",
      "[nltk_data]     /Users/xiaohua/nltk_data...\n",
      "[nltk_data]   Package stopwords is already up-to-date!\n",
      "[nltk_data] Downloading package punkt to /Users/xiaohua/nltk_data...\n",
      "[nltk_data]   Package punkt is already up-to-date!\n"
     ]
    },
    {
     "data": {
      "text/plain": [
       "True"
      ]
     },
     "execution_count": 4,
     "metadata": {},
     "output_type": "execute_result"
    }
   ],
   "source": [
    "import nltk\n",
    "import re\n",
    "import string\n",
    "from nltk.corpus import stopwords\n",
    "from nltk.tokenize import word_tokenize\n",
    "\n",
    "\n",
    "# installer les packages nltk nécessaires pour la préparation des données \n",
    "nltk.download('stopwords')\n",
    "nltk.download('punkt')"
   ]
  },
  {
   "cell_type": "code",
   "execution_count": 5,
   "id": "0f782b1f",
   "metadata": {},
   "outputs": [],
   "source": [
    "def preprocess_text(text, lang):\n",
    "    '''\n",
    "    prétraiter le texte en appliquant les étapes suivantes:\n",
    "    - convertir le texte en minuscules\n",
    "    - supprimer les nombres\n",
    "    - supprimer les apostrophes\n",
    "    - supprimer les mots de longueur inférieure ou égale à 2\n",
    "    - supprimer les stopwords et la ponctuation\n",
    "    '''\n",
    "    # assurer que le texte est de type str\n",
    "    if not isinstance(text, str):\n",
    "        return str(text)  # convertir en str\n",
    "\n",
    "    # charger les stopwords selon la langue\n",
    "    if lang == 'en':\n",
    "        stop_words = set(stopwords.words('english'))\n",
    "    elif lang == 'fr':\n",
    "        stop_words = set(stopwords.words('french'))\n",
    "    elif lang == 'it':\n",
    "        stop_words = set(stopwords.words('italian'))\n",
    "\n",
    "    # enlever les symboles ennuyeux et les nombres \n",
    "    text = re.sub(r'\\d+', '', text)  \n",
    "    text = re.sub(r\"['’‘]\", ' ', text)  \n",
    "    text = re.sub(r'\\b\\w{1,2}\\b', '', text)  \n",
    "\n",
    "    words = word_tokenize(text.lower())\n",
    "\n",
    "    # enlever les stopwords et la ponctuation\n",
    "    words = [word for word in words if word not in stop_words and word not in string.punctuation]\n",
    "\n",
    "    cleaned_text = ' '.join(words)\n",
    "    return cleaned_text"
   ]
  },
  {
   "cell_type": "code",
   "execution_count": 6,
   "id": "20bb2348",
   "metadata": {},
   "outputs": [],
   "source": [
    "def preprocess_csv(csv_path, lang,output_csv_path):\n",
    "    '''\n",
    "    lecture du fichier csv contenant les textes et leurs labels\n",
    "    et prétraitement des textes\n",
    "    '''\n",
    "    # lire le fichier csv sauvegardé précédemment\n",
    "    df = pd.read_csv(csv_path)\n",
    "\n",
    "    # appliquer la fonction de prétraitement sur la colonne texte\n",
    "    df['texte'] = df['texte'].apply(lambda x: preprocess_text(x, lang))\n",
    "\n",
    "    df.to_csv(output_csv_path, index=False, encoding='utf-8')"
   ]
  },
  {
   "cell_type": "code",
   "execution_count": 9,
   "id": "e6270545",
   "metadata": {},
   "outputs": [],
   "source": [
    "for lang in ['fr', 'en', 'it']:\n",
    "    preprocess_csv(f'./data/texte_brut/test_brut_{lang}.csv', lang, f'./data/texte_pretraite/test_pretraite_{lang}.csv')"
   ]
  },
  {
   "cell_type": "code",
   "execution_count": 7,
   "id": "cac285b6",
   "metadata": {},
   "outputs": [],
   "source": [
    "from sklearn.feature_extraction.text import TfidfVectorizer\n",
    "from tqdm import tqdm\n"
   ]
  },
  {
   "cell_type": "code",
   "execution_count": 8,
   "id": "67736e50",
   "metadata": {},
   "outputs": [],
   "source": [
    "def tfidfVectorize(CSV_train, CSV_test):\n",
    "    '''\n",
    "    vectoriser les textes en utilisant la méthode TF-IDF\n",
    "    '''\n",
    "    train_df = pd.read_csv(CSV_train)\n",
    "    test_df = pd.read_csv(CSV_test)\n",
    "    train_df.dropna(subset=['texte'], inplace=True)\n",
    "    test_df.dropna(subset=['texte'], inplace=True)\n",
    "\n",
    "    # initialiser le vectorizer avec les paramètres désirés\n",
    "    vectorizer = TfidfVectorizer(\n",
    "        ngram_range=(1, 3),\n",
    "        max_df=0.5,\n",
    "        use_idf=True,\n",
    "        sublinear_tf=True,\n",
    "        max_features=10000\n",
    "    )\n",
    "\n",
    "    # vectoriser les textes d'entraînement et de test \n",
    "    print(\"Vectorizing train data...\")\n",
    "    X_train = vectorizer.fit_transform(tqdm(train_df['texte']))\n",
    "\n",
    "    print(\"Vectorizing test data...\")\n",
    "    X_test = vectorizer.transform(tqdm(test_df['texte']))\n",
    "\n",
    "    # récupérer les labels correspondants\n",
    "    y_train = train_df['parti'].astype(str)\n",
    "    y_test = test_df['parti'].astype(str)\n",
    "\n",
    "    return X_train, X_test, y_train, y_test\n",
    "\n",
    "# les etapes dessus sont pour vectoriser les textes en utilisant la méthode TF-IDF"
   ]
  },
  {
   "cell_type": "markdown",
   "id": "f5371733",
   "metadata": {},
   "source": [
    "### modelisation"
   ]
  },
  {
   "cell_type": "code",
   "execution_count": 9,
   "id": "44098dcf",
   "metadata": {},
   "outputs": [],
   "source": [
    "#!/usr/bin/env python3\n",
    "from sklearn.metrics import classification_report, accuracy_score, cohen_kappa_score\n",
    "from sklearn.metrics import confusion_matrix\n",
    "import matplotlib.pyplot as plt\n",
    "import seaborn as sns"
   ]
  },
  {
   "cell_type": "code",
   "execution_count": 12,
   "id": "e4228b29",
   "metadata": {},
   "outputs": [],
   "source": [
    "def evaluate(X_train, X_test, y_train, y_test, model):\n",
    "    # Entraîner le modèle sur les données d'entraînement\n",
    "    model.fit(X_train, y_train)\n",
    "    # model = par exemple : LogisticRegression()\n",
    "\n",
    "    # Prédire les labels sur les données de test\n",
    "    y_pred = model.predict(X_test)\n",
    "\n",
    "    return y_test, y_pred"
   ]
  },
  {
   "cell_type": "code",
   "execution_count": 37,
   "id": "c64dd5c1",
   "metadata": {},
   "outputs": [
    {
     "name": "stdout",
     "output_type": "stream",
     "text": [
      "Vectorizing train data...\n"
     ]
    },
    {
     "name": "stderr",
     "output_type": "stream",
     "text": [
      "100%|██████████| 19365/19365 [00:05<00:00, 3471.73it/s]\n"
     ]
    },
    {
     "name": "stdout",
     "output_type": "stream",
     "text": [
      "Vectorizing test data...\n"
     ]
    },
    {
     "name": "stderr",
     "output_type": "stream",
     "text": [
      "100%|██████████| 12913/12913 [00:02<00:00, 4650.63it/s]\n"
     ]
    }
   ],
   "source": [
    "# ex : pour les textes en français, avec classification par Perceptron\n",
    "from sklearn.linear_model import Perceptron, LogisticRegression, SGDClassifier\n",
    "from sklearn.naive_bayes import MultinomialNB\n",
    "from sklearn.ensemble import RandomForestClassifier\n",
    "X_train_fr, X_test_fr, y_train_fr, y_test_fr = tfidfVectorize('./data/texte_pretraite/appr_pretraite_fr.csv', './data/texte_pretraite/test_pretraite_fr.csv')\n",
    "y_test_fr, y_pred_fr = evaluate(X_train_fr, X_test_fr, y_train_fr, y_test_fr, Perceptron()) # Perceptron\n",
    "# y_test_fr, y_pred_fr = evaluate(X_train_fr, X_test_fr, y_train_fr, y_test_fr, sklearn.linear_model.LogisticRegression()) # LogisticRegression\n",
    "# y_test_fr, y_pred_fr = evaluate(X_train_fr, X_test_fr, y_train_fr, y_test_fr, sklearn.linear_model.SGDClassifier()) # SGDClassifier\n",
    "# y_test_fr, y_pred_fr = evaluate(X_train_fr, X_test_fr, y_train_fr, y_test_fr, MultinomialNB()) # MultinomialNB\n",
    "# y_test_fr, y_pred_fr = evaluate(X_train_fr, X_test_fr, y_train_fr, y_test_fr,RandomForestClassifier()) # RandomForestClassifier\n"
   ]
  },
  {
   "cell_type": "code",
   "execution_count": 38,
   "id": "a16c5d0a",
   "metadata": {},
   "outputs": [
    {
     "name": "stdout",
     "output_type": "stream",
     "text": [
      "0        Verts-ALE\n",
      "1           PPE-DE\n",
      "2        Verts-ALE\n",
      "3              PSE\n",
      "4              PSE\n",
      "           ...    \n",
      "19365          PSE\n",
      "19366       PPE-DE\n",
      "19367       PPE-DE\n",
      "19368       PPE-DE\n",
      "19369       PPE-DE\n",
      "Name: parti, Length: 19365, dtype: object\n"
     ]
    }
   ],
   "source": [
    "print(y_train_fr)"
   ]
  },
  {
   "cell_type": "code",
   "execution_count": 40,
   "id": "6fb7db6d",
   "metadata": {},
   "outputs": [],
   "source": [
    "from sklearn.preprocessing import LabelEncoder\n",
    "import xgboost as xgb\n",
    "\n",
    "label_encoder = LabelEncoder()\n",
    "\n",
    "y_train_encoded = label_encoder.fit_transform(y_train_fr)\n",
    "y_test_fr_encoded = label_encoder.transform(y_test_fr)\n",
    "\n",
    "model = xgb.XGBClassifier(objective='multi:softmax')  # 用于多分类的目标函数\n",
    "\n",
    "model.fit(X_train_fr, y_train_encoded)\n",
    "\n",
    "y_pred_encoded = model.predict(X_test_fr)\n",
    "\n",
    "\n",
    "y_pred_fr = label_encoder.inverse_transform(y_pred_encoded)\n",
    "y_test_fr = label_encoder.inverse_transform(y_test_fr_encoded)"
   ]
  },
  {
   "cell_type": "code",
   "execution_count": 29,
   "id": "d9646454",
   "metadata": {},
   "outputs": [],
   "source": [
    "for i in (y_test_fr):\n",
    "    with open(\"y_test_fr.txt\", \"a\") as f:\n",
    "        f.write(str(i) + \"\\n\")\n",
    "for i in (y_pred_fr):\n",
    "    with open(\"y_pred_fr.txt\", \"a\") as f:\n",
    "        f.write(str(i) + \"\\n\")"
   ]
  },
  {
   "cell_type": "code",
   "execution_count": 30,
   "id": "2263d911",
   "metadata": {},
   "outputs": [],
   "source": [
    "def print_scores(y_test, y_pred):\n",
    "    '''\n",
    "    Afficher les scores d'évaluation du modèle choisi\n",
    "    '''\n",
    "    accuracy = accuracy_score(y_test, y_pred)\n",
    "    kappa = cohen_kappa_score(y_test, y_pred)\n",
    "    report = classification_report(y_test, y_pred)\n",
    "\n",
    "    print(\"Accuracy:\", accuracy)\n",
    "    print(\"Kappa Score:\", kappa)\n",
    "    print(\"Classification Report:\\n\", report)"
   ]
  },
  {
   "cell_type": "code",
   "execution_count": 31,
   "id": "586a2da2",
   "metadata": {},
   "outputs": [
    {
     "name": "stdout",
     "output_type": "stream",
     "text": [
      "Accuracy: 0.7198946797800666\n",
      "Kappa Score: 0.6122338507542466\n",
      "Classification Report:\n",
      "               precision    recall  f1-score   support\n",
      "\n",
      "           0       0.91      0.48      0.63      1339\n",
      "           1       0.85      0.71      0.78      1792\n",
      "           2       0.65      0.88      0.75      4571\n",
      "           3       0.71      0.70      0.70      3626\n",
      "           4       0.85      0.53      0.65      1585\n",
      "\n",
      "    accuracy                           0.72     12913\n",
      "   macro avg       0.79      0.66      0.70     12913\n",
      "weighted avg       0.75      0.72      0.71     12913\n",
      "\n"
     ]
    }
   ],
   "source": [
    "print_scores(y_test_fr, y_pred_fr)"
   ]
  },
  {
   "cell_type": "code",
   "execution_count": null,
   "id": "f9dde114",
   "metadata": {},
   "outputs": [],
   "source": []
  },
  {
   "cell_type": "code",
   "execution_count": 32,
   "id": "5dee597e",
   "metadata": {},
   "outputs": [],
   "source": [
    "def plot_confusion_matrix(y_test,y_pred, model):\n",
    "    '''\n",
    "    Sauvagarder la visualisation de la matrice de confusion du modèle choisi\n",
    "    '''\n",
    "    # obtenir les labels prédits par le modèle\n",
    "    unique_labels = sorted(set(y_test) | set(y_pred))\n",
    "\n",
    "    # générer la matrice de confusion en spécifiant les labels\n",
    "    conf_matrix = confusion_matrix(y_test, y_pred, labels=unique_labels)\n",
    "\n",
    "    # utiliser seaborn pour afficher la matrice de confusion sous forme de heatmap\n",
    "    plt.figure(figsize=(10, 8))\n",
    "    sns.heatmap(conf_matrix,annot_kws={\"size\": 10},annot=True, fmt='d', cmap='Blues', cbar=False, xticklabels=unique_labels, yticklabels=unique_labels)\n",
    " \n",
    "\n",
    "    plt.xlabel('Parti Prédit')\n",
    "    plt.ylabel('Parti Réel')\n",
    "    plt.title('Matrice de Confusion')\n",
    "\n",
    "    # sauvegarder la figure dans le dossier result\n",
    "    plt.savefig(f'./result/Confusion_Matrix_{model}.png', format='png', dpi=300)\n",
    "    \n",
    "    plt.show()"
   ]
  },
  {
   "cell_type": "code",
   "execution_count": 33,
   "id": "3f89c921",
   "metadata": {},
   "outputs": [
    {
     "data": {
      "image/png": "[encoded data removed]",
      "text/plain": [
       "<Figure size 1000x800 with 1 Axes>"
      ]
     },
     "metadata": {},
     "output_type": "display_data"
    }
   ],
   "source": [
    "plot_confusion_matrix(y_test_fr, y_pred_fr, 'xxx')"
   ]
  },
  {
   "cell_type": "code",
   "execution_count": null,
   "id": "ce2e1670",
   "metadata": {},
   "outputs": [],
   "source": []
  },
  {
   "cell_type": "code",
   "execution_count": null,
   "id": "e1a70bd9",
   "metadata": {},
   "outputs": [],
   "source": []
  }
 ],
 "metadata": {
  "kernelspec": {
   "display_name": "Python 3 (ipykernel)",
   "language": "python",
   "name": "python3"
  },
  "language_info": {
   "codemirror_mode": {
    "name": "ipython",
    "version": 3
   },
   "file_extension": ".py",
   "mimetype": "text/x-python",
   "name": "python",
   "nbconvert_exporter": "python",
   "pygments_lexer": "ipython3",
   "version": "3.9.16"
  }
 },
 "nbformat": 4,
 "nbformat_minor": 5
}
